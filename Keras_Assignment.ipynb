{
  "nbformat": 4,
  "nbformat_minor": 0,
  "metadata": {
    "colab": {
      "name": "Keras_Assignment.ipynb",
      "version": "0.3.2",
      "provenance": [],
      "collapsed_sections": [],
      "include_colab_link": true
    },
    "kernelspec": {
      "name": "python3",
      "display_name": "Python 3"
    }
  },
  "cells": [
    {
      "cell_type": "markdown",
      "metadata": {
        "id": "view-in-github",
        "colab_type": "text"
      },
      "source": [
        "<a href=\"https://colab.research.google.com/github/DanielleRomanoff/DS-Unit-4-Sprint-3-Neural-Networks/blob/master/Keras_Assignment.ipynb\" target=\"_parent\"><img src=\"https://colab.research.google.com/assets/colab-badge.svg\" alt=\"Open In Colab\"/></a>"
      ]
    },
    {
      "metadata": {
        "id": "pBQsZEJmubLs",
        "colab_type": "text"
      },
      "cell_type": "markdown",
      "source": [
        "## Use the Keras Library to build a Multi-Layer Perceptron Model on the Boston Housing dataset\n",
        "\n",
        "- The Boston Housing dataset comes with the Keras library so use Keras to import it into your notebook. \n",
        "- Normalize the data (all features should have roughly the same scale)\n",
        "- Import the type of model and layers that you will need from Keras.\n",
        "- Instantiate a model object and use `model.add()` to add layers to your model\n",
        "- Since this is a regression model you will have a single output node in the final layer.\n",
        "- Use activation functions that are appropriate for this task\n",
        "- Compile your model\n",
        "- Fit your model and report its accuracy in terms of Mean Squared Error\n",
        "- Use the history object that is returned from model.fit to make graphs of the model's loss or train/validation accuracies by epoch. \n",
        "- Run this same data through a linear regression model. Which achieves higher accuracy?\n",
        "- Do a little bit of feature engineering and see how that affects your neural network model. (you will need to change your model to accept more inputs)\n",
        "- After feature engineering, which model sees a greater accuracy boost due to the new features?"
      ]
    },
    {
      "metadata": {
        "id": "8NLTAR87uYJ-",
        "colab_type": "code",
        "colab": {}
      },
      "cell_type": "code",
      "source": [
        "%matplotlib inline\n",
        "import pandas as pd\n",
        "import numpy as np\n",
        "import matplotlib.pyplot as plt\n",
        "from sklearn import preprocessing\n",
        "from keras import models\n",
        "from keras import layers\n",
        "from keras.models import Sequential\n",
        "from keras.layers import Dense\n",
        "from numpy import array\n",
        "from numpy import argmax\n",
        "from keras.utils import to_categorical"
      ],
      "execution_count": 0,
      "outputs": []
    },
    {
      "metadata": {
        "id": "hwnhs0NXzLH-",
        "colab_type": "code",
        "colab": {}
      },
      "cell_type": "code",
      "source": [
        "# Load dataset\n",
        "from keras.datasets import boston_housing\n",
        "(x_train, y_train), (x_test, y_test) = boston_housing.load_data()"
      ],
      "execution_count": 0,
      "outputs": []
    },
    {
      "metadata": {
        "id": "BScj5go0HOyg",
        "colab_type": "code",
        "colab": {
          "base_uri": "https://localhost:8080/",
          "height": 86
        },
        "outputId": "e4b4e51f-447e-447b-fd28-0595331a4877"
      },
      "cell_type": "code",
      "source": [
        "# take a look at the data\n",
        "\n",
        "print(f'Training data : {x_train.shape}')\n",
        "print(f'Training targets: {y_train.shape}')\n",
        "print(f'Testing data : {x_test.shape}')\n",
        "print(f'Testing targets: {y_test.shape}')"
      ],
      "execution_count": 398,
      "outputs": [
        {
          "output_type": "stream",
          "text": [
            "Training data : (404, 13)\n",
            "Training targets: (404,)\n",
            "Testing data : (102, 13)\n",
            "Testing targets: (102,)\n"
          ],
          "name": "stdout"
        }
      ]
    },
    {
      "metadata": {
        "id": "ynBFjPlTgxXb",
        "colab_type": "code",
        "colab": {}
      },
      "cell_type": "code",
      "source": [
        "y_train = np.reshape(y_train, (-1,1))\n",
        "y_test = np.reshape(y_test, (-1,1))"
      ],
      "execution_count": 0,
      "outputs": []
    },
    {
      "metadata": {
        "id": "e5LMSQnKfe27",
        "colab_type": "code",
        "colab": {}
      },
      "cell_type": "code",
      "source": [
        "# normalize by dividing by the max\n",
        "# max_y_train = y_train.max()\n",
        "# max_y_test =y_test.max()\n",
        "\n",
        "# y_train = y_train/max_y_train\n",
        "# y_test= y_test/max_y_test"
      ],
      "execution_count": 0,
      "outputs": []
    },
    {
      "metadata": {
        "id": "iYxOLP7xfgGG",
        "colab_type": "code",
        "colab": {}
      },
      "cell_type": "code",
      "source": [
        "normalized_Y_train = preprocessing.normalize(y_train)\n",
        "normalized_Y_test = preprocessing.normalize(y_test)\n",
        "normalized_X_train= preprocessing.normalize(x_train)\n",
        "normalized_X_test = preprocessing.normalize(x_test)"
      ],
      "execution_count": 0,
      "outputs": []
    },
    {
      "metadata": {
        "id": "ah_byg2zhJHY",
        "colab_type": "code",
        "colab": {
          "base_uri": "https://localhost:8080/",
          "height": 35
        },
        "outputId": "67f5e839-d23c-4ecb-9a51-b385e68607c3"
      },
      "cell_type": "code",
      "source": [
        "normalized_X_train.shape, normalized_Y_train.shape, normalized_X_test.shape, normalized_Y_test.shape"
      ],
      "execution_count": 427,
      "outputs": [
        {
          "output_type": "execute_result",
          "data": {
            "text/plain": [
              "((404, 13), (404, 1), (102, 13), (102, 1))"
            ]
          },
          "metadata": {
            "tags": []
          },
          "execution_count": 427
        }
      ]
    },
    {
      "metadata": {
        "colab_type": "code",
        "id": "O1HWpF5vit5j",
        "colab": {}
      },
      "cell_type": "code",
      "source": [
        "# Adding a bias dimension because of Keras\n",
        "# Y = normalized_X_train.reshape(train_targets.shape[0], 1)"
      ],
      "execution_count": 0,
      "outputs": []
    },
    {
      "metadata": {
        "id": "7My_XlnOzLKd",
        "colab_type": "code",
        "colab": {}
      },
      "cell_type": "code",
      "source": [
        "# split into input (X) and output (Y) variables\n",
        "\n",
        "X = normalized_X_train\n",
        "Y = y_train\n",
        "\n",
        "# print(X)\n",
        "# print(Y)"
      ],
      "execution_count": 0,
      "outputs": []
    },
    {
      "metadata": {
        "id": "JG8q_QmKMArt",
        "colab_type": "code",
        "colab": {}
      },
      "cell_type": "code",
      "source": [
        "# fix random seed for reproducibility\n",
        "np.random.seed(42)"
      ],
      "execution_count": 0,
      "outputs": []
    },
    {
      "metadata": {
        "id": "3jtoQrDb3Qi2",
        "colab_type": "code",
        "colab": {}
      },
      "cell_type": "code",
      "source": [
        "# https://keras.io/getting-started/sequential-model-guide/\n",
        "# instantiate the model as Sequential\n",
        "model = Sequential()"
      ],
      "execution_count": 0,
      "outputs": []
    },
    {
      "metadata": {
        "id": "io8k1V_s3QlJ",
        "colab_type": "code",
        "colab": {}
      },
      "cell_type": "code",
      "source": [
        "# Adding a \"Dense\" layer to our model is how we add \"vanilla\" perceptron-based layers to our neural network\n",
        "model.add(Dense(13, input_dim=13, activation ='relu'))\n",
        "model.add(Dense(3, activation='relu'))\n",
        "model.add(Dense(1, activation='relu'))"
      ],
      "execution_count": 0,
      "outputs": []
    },
    {
      "metadata": {
        "id": "iFOwS-Te3QnS",
        "colab_type": "code",
        "colab": {
          "base_uri": "https://localhost:8080/",
          "height": 242
        },
        "outputId": "43974f51-49cb-4c60-ef03-40efd37aea36"
      },
      "cell_type": "code",
      "source": [
        "# Compile Model\n",
        "model.compile(optimizer='rmsprop',loss='mse', metrics=['mean_squared_error'])\n",
        "model.summary()"
      ],
      "execution_count": 441,
      "outputs": [
        {
          "output_type": "stream",
          "text": [
            "_________________________________________________________________\n",
            "Layer (type)                 Output Shape              Param #   \n",
            "=================================================================\n",
            "dense_93 (Dense)             (None, 13)                182       \n",
            "_________________________________________________________________\n",
            "dense_94 (Dense)             (None, 3)                 42        \n",
            "_________________________________________________________________\n",
            "dense_95 (Dense)             (None, 1)                 4         \n",
            "=================================================================\n",
            "Total params: 228\n",
            "Trainable params: 228\n",
            "Non-trainable params: 0\n",
            "_________________________________________________________________\n"
          ],
          "name": "stdout"
        }
      ]
    },
    {
      "metadata": {
        "id": "jAUy8DyG3QpO",
        "colab_type": "code",
        "colab": {
          "base_uri": "https://localhost:8080/",
          "height": 1745
        },
        "outputId": "f8e9ae71-e716-4c63-8d02-e1a205b7862d"
      },
      "cell_type": "code",
      "source": [
        "# Fit the model\n",
        "history = model.fit(X, Y, epochs=50)"
      ],
      "execution_count": 442,
      "outputs": [
        {
          "output_type": "stream",
          "text": [
            "Epoch 1/50\n",
            "404/404 [==============================] - 2s 4ms/step - loss: 580.1200 - mean_squared_error: 580.1200\n",
            "Epoch 2/50\n",
            "404/404 [==============================] - 0s 66us/step - loss: 573.8618 - mean_squared_error: 573.8618\n",
            "Epoch 3/50\n",
            "404/404 [==============================] - 0s 61us/step - loss: 567.7826 - mean_squared_error: 567.7826\n",
            "Epoch 4/50\n",
            "404/404 [==============================] - 0s 59us/step - loss: 561.3493 - mean_squared_error: 561.3493\n",
            "Epoch 5/50\n",
            "404/404 [==============================] - 0s 54us/step - loss: 554.5814 - mean_squared_error: 554.5814\n",
            "Epoch 6/50\n",
            "404/404 [==============================] - 0s 59us/step - loss: 547.3528 - mean_squared_error: 547.3528\n",
            "Epoch 7/50\n",
            "404/404 [==============================] - 0s 59us/step - loss: 539.7245 - mean_squared_error: 539.7245\n",
            "Epoch 8/50\n",
            "404/404 [==============================] - 0s 58us/step - loss: 531.6872 - mean_squared_error: 531.6872\n",
            "Epoch 9/50\n",
            "404/404 [==============================] - 0s 61us/step - loss: 523.1823 - mean_squared_error: 523.1823\n",
            "Epoch 10/50\n",
            "404/404 [==============================] - 0s 53us/step - loss: 514.1355 - mean_squared_error: 514.1355\n",
            "Epoch 11/50\n",
            "404/404 [==============================] - 0s 62us/step - loss: 504.6166 - mean_squared_error: 504.6166\n",
            "Epoch 12/50\n",
            "404/404 [==============================] - 0s 76us/step - loss: 494.5380 - mean_squared_error: 494.5380\n",
            "Epoch 13/50\n",
            "404/404 [==============================] - 0s 57us/step - loss: 483.9802 - mean_squared_error: 483.9802\n",
            "Epoch 14/50\n",
            "404/404 [==============================] - 0s 57us/step - loss: 472.9034 - mean_squared_error: 472.9034\n",
            "Epoch 15/50\n",
            "404/404 [==============================] - 0s 67us/step - loss: 461.4438 - mean_squared_error: 461.4438\n",
            "Epoch 16/50\n",
            "404/404 [==============================] - 0s 60us/step - loss: 449.4064 - mean_squared_error: 449.4064\n",
            "Epoch 17/50\n",
            "404/404 [==============================] - 0s 59us/step - loss: 437.0884 - mean_squared_error: 437.0884\n",
            "Epoch 18/50\n",
            "404/404 [==============================] - 0s 67us/step - loss: 424.4183 - mean_squared_error: 424.4183\n",
            "Epoch 19/50\n",
            "404/404 [==============================] - 0s 74us/step - loss: 411.2680 - mean_squared_error: 411.2680\n",
            "Epoch 20/50\n",
            "404/404 [==============================] - 0s 65us/step - loss: 397.6393 - mean_squared_error: 397.6393\n",
            "Epoch 21/50\n",
            "404/404 [==============================] - 0s 59us/step - loss: 383.6578 - mean_squared_error: 383.6578\n",
            "Epoch 22/50\n",
            "404/404 [==============================] - 0s 75us/step - loss: 369.3976 - mean_squared_error: 369.3976\n",
            "Epoch 23/50\n",
            "404/404 [==============================] - 0s 93us/step - loss: 354.9524 - mean_squared_error: 354.9524\n",
            "Epoch 24/50\n",
            "404/404 [==============================] - 0s 62us/step - loss: 340.1785 - mean_squared_error: 340.1785\n",
            "Epoch 25/50\n",
            "404/404 [==============================] - 0s 59us/step - loss: 325.2084 - mean_squared_error: 325.2084\n",
            "Epoch 26/50\n",
            "404/404 [==============================] - 0s 63us/step - loss: 310.1640 - mean_squared_error: 310.1640\n",
            "Epoch 27/50\n",
            "404/404 [==============================] - 0s 57us/step - loss: 295.1404 - mean_squared_error: 295.1404\n",
            "Epoch 28/50\n",
            "404/404 [==============================] - 0s 64us/step - loss: 279.8871 - mean_squared_error: 279.8871\n",
            "Epoch 29/50\n",
            "404/404 [==============================] - 0s 69us/step - loss: 264.8208 - mean_squared_error: 264.8208\n",
            "Epoch 30/50\n",
            "404/404 [==============================] - 0s 67us/step - loss: 249.9507 - mean_squared_error: 249.9507\n",
            "Epoch 31/50\n",
            "404/404 [==============================] - 0s 55us/step - loss: 235.1350 - mean_squared_error: 235.1350\n",
            "Epoch 32/50\n",
            "404/404 [==============================] - 0s 54us/step - loss: 220.6622 - mean_squared_error: 220.6622\n",
            "Epoch 33/50\n",
            "404/404 [==============================] - 0s 55us/step - loss: 206.3646 - mean_squared_error: 206.3646\n",
            "Epoch 34/50\n",
            "404/404 [==============================] - 0s 59us/step - loss: 192.3197 - mean_squared_error: 192.3197\n",
            "Epoch 35/50\n",
            "404/404 [==============================] - 0s 57us/step - loss: 178.9468 - mean_squared_error: 178.9468\n",
            "Epoch 36/50\n",
            "404/404 [==============================] - 0s 57us/step - loss: 166.2212 - mean_squared_error: 166.2212\n",
            "Epoch 37/50\n",
            "404/404 [==============================] - 0s 56us/step - loss: 154.2871 - mean_squared_error: 154.2871\n",
            "Epoch 38/50\n",
            "404/404 [==============================] - 0s 55us/step - loss: 143.0257 - mean_squared_error: 143.0257\n",
            "Epoch 39/50\n",
            "404/404 [==============================] - 0s 65us/step - loss: 132.7568 - mean_squared_error: 132.7568\n",
            "Epoch 40/50\n",
            "404/404 [==============================] - 0s 62us/step - loss: 123.3717 - mean_squared_error: 123.3717\n",
            "Epoch 41/50\n",
            "404/404 [==============================] - 0s 63us/step - loss: 114.7824 - mean_squared_error: 114.7824\n",
            "Epoch 42/50\n",
            "404/404 [==============================] - 0s 60us/step - loss: 107.5707 - mean_squared_error: 107.5707\n",
            "Epoch 43/50\n",
            "404/404 [==============================] - 0s 56us/step - loss: 101.4414 - mean_squared_error: 101.4414\n",
            "Epoch 44/50\n",
            "404/404 [==============================] - 0s 58us/step - loss: 96.6158 - mean_squared_error: 96.6158\n",
            "Epoch 45/50\n",
            "404/404 [==============================] - 0s 56us/step - loss: 92.6901 - mean_squared_error: 92.6901\n",
            "Epoch 46/50\n",
            "404/404 [==============================] - 0s 56us/step - loss: 89.8716 - mean_squared_error: 89.8716\n",
            "Epoch 47/50\n",
            "404/404 [==============================] - 0s 73us/step - loss: 88.1373 - mean_squared_error: 88.1373\n",
            "Epoch 48/50\n",
            "404/404 [==============================] - 0s 59us/step - loss: 87.1461 - mean_squared_error: 87.1461\n",
            "Epoch 49/50\n",
            "404/404 [==============================] - 0s 55us/step - loss: 86.4609 - mean_squared_error: 86.4609\n",
            "Epoch 50/50\n",
            "404/404 [==============================] - 0s 59us/step - loss: 86.0362 - mean_squared_error: 86.0362\n"
          ],
          "name": "stdout"
        }
      ]
    },
    {
      "metadata": {
        "id": "zNr11qzzC2Bs",
        "colab_type": "code",
        "colab": {
          "base_uri": "https://localhost:8080/",
          "height": 217
        },
        "outputId": "edeac45f-fb06-4fd5-de27-2f5d04abd9eb"
      },
      "cell_type": "code",
      "source": [
        "# Evaluate the model\n",
        "test_mse_score, test_mae_score = model.evaluate(normalized_X_test, normalized_Y_test)\n",
        "print(f\"{model.metrics_names[1]}: {scores[1]*1000}\")\n",
        "test_mse_score"
      ],
      "execution_count": 443,
      "outputs": [
        {
          "output_type": "stream",
          "text": [
            "102/102 [==============================] - 1s 7ms/step\n"
          ],
          "name": "stdout"
        },
        {
          "output_type": "error",
          "ename": "IndexError",
          "evalue": "ignored",
          "traceback": [
            "\u001b[0;31m---------------------------------------------------------------------------\u001b[0m",
            "\u001b[0;31mIndexError\u001b[0m                                Traceback (most recent call last)",
            "\u001b[0;32m<ipython-input-443-a213d3244689>\u001b[0m in \u001b[0;36m<module>\u001b[0;34m()\u001b[0m\n\u001b[1;32m      1\u001b[0m \u001b[0mtest_mse_score\u001b[0m\u001b[0;34m,\u001b[0m \u001b[0mtest_mae_score\u001b[0m \u001b[0;34m=\u001b[0m \u001b[0mmodel\u001b[0m\u001b[0;34m.\u001b[0m\u001b[0mevaluate\u001b[0m\u001b[0;34m(\u001b[0m\u001b[0mnormalized_X_test\u001b[0m\u001b[0;34m,\u001b[0m \u001b[0mnormalized_Y_test\u001b[0m\u001b[0;34m)\u001b[0m\u001b[0;34m\u001b[0m\u001b[0;34m\u001b[0m\u001b[0m\n\u001b[0;32m----> 2\u001b[0;31m \u001b[0mprint\u001b[0m\u001b[0;34m(\u001b[0m\u001b[0;34mf\"{model.metrics_names[1]}: {scores[1]*1000}\"\u001b[0m\u001b[0;34m)\u001b[0m\u001b[0;34m\u001b[0m\u001b[0;34m\u001b[0m\u001b[0m\n\u001b[0m\u001b[1;32m      3\u001b[0m \u001b[0mtest_mse_score\u001b[0m\u001b[0;34m\u001b[0m\u001b[0;34m\u001b[0m\u001b[0m\n",
            "\u001b[0;31mIndexError\u001b[0m: invalid index to scalar variable."
          ]
        }
      ]
    },
    {
      "metadata": {
        "id": "oY2qKFoKC2Ns",
        "colab_type": "code",
        "colab": {
          "base_uri": "https://localhost:8080/",
          "height": 265
        },
        "outputId": "d092571c-3844-462f-fcc5-c7e48b6c287a"
      },
      "cell_type": "code",
      "source": [
        "training_loss = history.history['loss']\n",
        "epoch_count = range(1, len(training_loss) + 1)\n",
        "\n",
        "plt.plot(epoch_count, training_loss, 'r--')\n",
        "plt.show();"
      ],
      "execution_count": 435,
      "outputs": [
        {
          "output_type": "display_data",
          "data": {
            "image/png": "[encoded data removed]",
            "text/plain": [
              "<Figure size 432x288 with 1 Axes>"
            ]
          },
          "metadata": {
            "tags": []
          }
        }
      ]
    },
    {
      "metadata": {
        "id": "cyo20J1xC2P_",
        "colab_type": "code",
        "colab": {
          "base_uri": "https://localhost:8080/",
          "height": 265
        },
        "outputId": "b6494b42-4640-4001-d159-fef78bcf9376"
      },
      "cell_type": "code",
      "source": [
        "plt.plot(history.history['mean_squared_error'])\n",
        "plt.plot(history.history['loss'])\n",
        "plt.show()"
      ],
      "execution_count": 436,
      "outputs": [
        {
          "output_type": "display_data",
          "data": {
            "image/png": "[encoded data removed]",
            "text/plain": [
              "<Figure size 432x288 with 1 Axes>"
            ]
          },
          "metadata": {
            "tags": []
          }
        }
      ]
    },
    {
      "metadata": {
        "id": "gTsvGNXhsa4v",
        "colab_type": "code",
        "colab": {
          "base_uri": "https://localhost:8080/",
          "height": 200
        },
        "outputId": "c3e48e65-4ca0-4b52-f9ec-cc6b241b10b0"
      },
      "cell_type": "code",
      "source": [
        "plt.plot(history.history['mean_absolute_percentage_error'])\n",
        "plt.plot(history.history['cosine_proximity'])\n",
        "plt.show()"
      ],
      "execution_count": 424,
      "outputs": [
        {
          "output_type": "error",
          "ename": "KeyError",
          "evalue": "ignored",
          "traceback": [
            "\u001b[0;31m---------------------------------------------------------------------------\u001b[0m",
            "\u001b[0;31mKeyError\u001b[0m                                  Traceback (most recent call last)",
            "\u001b[0;32m<ipython-input-424-8268bd6f02a8>\u001b[0m in \u001b[0;36m<module>\u001b[0;34m()\u001b[0m\n\u001b[0;32m----> 1\u001b[0;31m \u001b[0mplt\u001b[0m\u001b[0;34m.\u001b[0m\u001b[0mplot\u001b[0m\u001b[0;34m(\u001b[0m\u001b[0mhistory\u001b[0m\u001b[0;34m.\u001b[0m\u001b[0mhistory\u001b[0m\u001b[0;34m[\u001b[0m\u001b[0;34m'mean_absolute_percentage_error'\u001b[0m\u001b[0;34m]\u001b[0m\u001b[0;34m)\u001b[0m\u001b[0;34m\u001b[0m\u001b[0;34m\u001b[0m\u001b[0m\n\u001b[0m\u001b[1;32m      2\u001b[0m \u001b[0mplt\u001b[0m\u001b[0;34m.\u001b[0m\u001b[0mplot\u001b[0m\u001b[0;34m(\u001b[0m\u001b[0mhistory\u001b[0m\u001b[0;34m.\u001b[0m\u001b[0mhistory\u001b[0m\u001b[0;34m[\u001b[0m\u001b[0;34m'cosine_proximity'\u001b[0m\u001b[0;34m]\u001b[0m\u001b[0;34m)\u001b[0m\u001b[0;34m\u001b[0m\u001b[0;34m\u001b[0m\u001b[0m\n\u001b[1;32m      3\u001b[0m \u001b[0mplt\u001b[0m\u001b[0;34m.\u001b[0m\u001b[0mshow\u001b[0m\u001b[0;34m(\u001b[0m\u001b[0;34m)\u001b[0m\u001b[0;34m\u001b[0m\u001b[0;34m\u001b[0m\u001b[0m\n",
            "\u001b[0;31mKeyError\u001b[0m: 'mean_absolute_percentage_error'"
          ]
        }
      ]
    },
    {
      "metadata": {
        "id": "cYfzppdsNAjK",
        "colab_type": "code",
        "colab": {}
      },
      "cell_type": "code",
      "source": [
        ""
      ],
      "execution_count": 0,
      "outputs": []
    },
    {
      "metadata": {
        "id": "OzDACu2zNAlq",
        "colab_type": "code",
        "colab": {}
      },
      "cell_type": "code",
      "source": [
        ""
      ],
      "execution_count": 0,
      "outputs": []
    },
    {
      "metadata": {
        "id": "Z5KfeUz6NAnr",
        "colab_type": "code",
        "colab": {}
      },
      "cell_type": "code",
      "source": [
        ""
      ],
      "execution_count": 0,
      "outputs": []
    },
    {
      "metadata": {
        "id": "03_CLGWyNAqM",
        "colab_type": "code",
        "colab": {}
      },
      "cell_type": "code",
      "source": [
        ""
      ],
      "execution_count": 0,
      "outputs": []
    },
    {
      "metadata": {
        "id": "fKwSpNvdNAsg",
        "colab_type": "code",
        "colab": {}
      },
      "cell_type": "code",
      "source": [
        ""
      ],
      "execution_count": 0,
      "outputs": []
    },
    {
      "metadata": {
        "id": "6rzKFZpWNAu4",
        "colab_type": "code",
        "colab": {}
      },
      "cell_type": "code",
      "source": [
        ""
      ],
      "execution_count": 0,
      "outputs": []
    },
    {
      "metadata": {
        "id": "Hj1VgDEkNAxF",
        "colab_type": "code",
        "colab": {}
      },
      "cell_type": "code",
      "source": [
        ""
      ],
      "execution_count": 0,
      "outputs": []
    },
    {
      "metadata": {
        "id": "OviBCHdnNA03",
        "colab_type": "code",
        "colab": {}
      },
      "cell_type": "code",
      "source": [
        ""
      ],
      "execution_count": 0,
      "outputs": []
    },
    {
      "metadata": {
        "id": "V_GWwiFhNA3O",
        "colab_type": "code",
        "colab": {}
      },
      "cell_type": "code",
      "source": [
        ""
      ],
      "execution_count": 0,
      "outputs": []
    },
    {
      "metadata": {
        "id": "5S7P2ETWNA5v",
        "colab_type": "code",
        "colab": {}
      },
      "cell_type": "code",
      "source": [
        ""
      ],
      "execution_count": 0,
      "outputs": []
    },
    {
      "metadata": {
        "id": "Wm7J-qcDNA8K",
        "colab_type": "code",
        "colab": {}
      },
      "cell_type": "code",
      "source": [
        ""
      ],
      "execution_count": 0,
      "outputs": []
    },
    {
      "metadata": {
        "id": "w9JRsWXRNA-T",
        "colab_type": "code",
        "colab": {}
      },
      "cell_type": "code",
      "source": [
        ""
      ],
      "execution_count": 0,
      "outputs": []
    },
    {
      "metadata": {
        "id": "40Ki_ZSRNBDv",
        "colab_type": "code",
        "colab": {}
      },
      "cell_type": "code",
      "source": [
        ""
      ],
      "execution_count": 0,
      "outputs": []
    },
    {
      "metadata": {
        "id": "1gsz3THINAzd",
        "colab_type": "code",
        "colab": {}
      },
      "cell_type": "code",
      "source": [
        ""
      ],
      "execution_count": 0,
      "outputs": []
    },
    {
      "metadata": {
        "id": "ZFhk4UbCNAhl",
        "colab_type": "code",
        "colab": {}
      },
      "cell_type": "code",
      "source": [
        ""
      ],
      "execution_count": 0,
      "outputs": []
    },
    {
      "metadata": {
        "id": "SfcFnOONyuNm",
        "colab_type": "text"
      },
      "cell_type": "markdown",
      "source": [
        "## Use the Keras Library to build an image recognition network using the Fashion-MNIST dataset (also comes with keras)\n",
        "\n",
        "- Load and preprocess the image data similar to how we preprocessed the MNIST data in class.\n",
        "- Make sure to one-hot encode your category labels\n",
        "- Make sure to have your final layer have as many nodes as the number of classes that you want to predict.\n",
        "- Try different hyperparameters. What is the highest accuracy that you are able to achieve.\n",
        "- Use the history object that is returned from model.fit to make graphs of the model's loss or train/validation accuracies by epoch. \n",
        "- Remember that neural networks fall prey to randomness so you may need to run your model multiple times (or use Cross Validation) in order to tell if a change to a hyperparameter is truly producing better results."
      ]
    },
    {
      "metadata": {
        "id": "szi6-IpuzaH1",
        "colab_type": "code",
        "colab": {}
      },
      "cell_type": "code",
      "source": [
        "##### Your Code Here #####"
      ],
      "execution_count": 0,
      "outputs": []
    },
    {
      "metadata": {
        "id": "zv_3xNMjzdLI",
        "colab_type": "text"
      },
      "cell_type": "markdown",
      "source": [
        "## Stretch Goals:\n",
        "\n",
        "- Use Hyperparameter Tuning to make the accuracy of your models as high as possible. (error as low as possible)\n",
        "- Use Cross Validation techniques to get more consistent results with your model.\n",
        "- Use GridSearchCV to try different combinations of hyperparameters. \n",
        "- Start looking into other types of Keras layers for CNNs and RNNs maybe try and build a CNN model for fashion-MNIST to see how the results compare."
      ]
    }
  ]
}