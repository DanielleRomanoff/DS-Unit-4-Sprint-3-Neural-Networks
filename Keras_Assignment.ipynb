{
  "nbformat": 4,
  "nbformat_minor": 0,
  "metadata": {
    "colab": {
      "name": "Keras_Assignment.ipynb",
      "version": "0.3.2",
      "provenance": [],
      "collapsed_sections": [],
      "include_colab_link": true
    },
    "kernelspec": {
      "name": "python3",
      "display_name": "Python 3"
    }
  },
  "cells": [
    {
      "cell_type": "markdown",
      "metadata": {
        "id": "view-in-github",
        "colab_type": "text"
      },
      "source": [
        "<a href=\"https://colab.research.google.com/github/DanielleRomanoff/DS-Unit-4-Sprint-3-Neural-Networks/blob/master/Keras_Assignment.ipynb\" target=\"_parent\"><img src=\"https://colab.research.google.com/assets/colab-badge.svg\" alt=\"Open In Colab\"/></a>"
      ]
    },
    {
      "metadata": {
        "id": "pBQsZEJmubLs",
        "colab_type": "text"
      },
      "cell_type": "markdown",
      "source": [
        "## Use the Keras Library to build a Multi-Layer Perceptron Model on the Boston Housing dataset\n",
        "\n",
        "- The Boston Housing dataset comes with the Keras library so use Keras to import it into your notebook. \n",
        "- Normalize the data (all features should have roughly the same scale)\n",
        "- Import the type of model and layers that you will need from Keras.\n",
        "- Instantiate a model object and use `model.add()` to add layers to your model\n",
        "- Since this is a regression model you will have a single output node in the final layer.\n",
        "- Use activation functions that are appropriate for this task\n",
        "- Compile your model\n",
        "- Fit your model and report its accuracy in terms of Mean Squared Error\n",
        "- Use the history object that is returned from model.fit to make graphs of the model's loss or train/validation accuracies by epoch. \n",
        "- Run this same data through a linear regression model. Which achieves higher accuracy?\n",
        "- Do a little bit of feature engineering and see how that affects your neural network model. (you will need to change your model to accept more inputs)\n",
        "- After feature engineering, which model sees a greater accuracy boost due to the new features?"
      ]
    },
    {
      "metadata": {
        "id": "8NLTAR87uYJ-",
        "colab_type": "code",
        "colab": {
          "base_uri": "https://localhost:8080/",
          "height": 35
        },
        "outputId": "fadaf56b-aa52-411a-e7e0-0875fadcfa17"
      },
      "cell_type": "code",
      "source": [
        "%matplotlib inline\n",
        "import pandas as pd\n",
        "import numpy as np\n",
        "import matplotlib.pyplot as plt\n",
        "from sklearn import preprocessing\n",
        "from keras import models\n",
        "from keras import layers\n",
        "from keras.models import Sequential\n",
        "from keras.layers import Dense\n",
        "from numpy import array\n",
        "from numpy import argmax\n",
        "from keras.utils import to_categorical"
      ],
      "execution_count": 1,
      "outputs": [
        {
          "output_type": "stream",
          "text": [
            "Using TensorFlow backend.\n"
          ],
          "name": "stderr"
        }
      ]
    },
    {
      "metadata": {
        "id": "hwnhs0NXzLH-",
        "colab_type": "code",
        "colab": {}
      },
      "cell_type": "code",
      "source": [
        "# Load dataset\n",
        "from keras.datasets import boston_housing\n",
        "(x_train, y_train), (x_test, y_test) = boston_housing.load_data()"
      ],
      "execution_count": 0,
      "outputs": []
    },
    {
      "metadata": {
        "id": "BScj5go0HOyg",
        "colab_type": "code",
        "outputId": "67256c03-9bb6-45ce-fa54-8216ab782bb4",
        "colab": {
          "base_uri": "https://localhost:8080/",
          "height": 86
        }
      },
      "cell_type": "code",
      "source": [
        "# take a look at the data\n",
        "\n",
        "print(f'Training data : {x_train.shape}')\n",
        "print(f'Training targets: {y_train.shape}')\n",
        "print(f'Testing data : {x_test.shape}')\n",
        "print(f'Testing targets: {y_test.shape}')"
      ],
      "execution_count": 0,
      "outputs": [
        {
          "output_type": "stream",
          "text": [
            "Training data : (404, 13)\n",
            "Training targets: (404,)\n",
            "Testing data : (102, 13)\n",
            "Testing targets: (102,)\n"
          ],
          "name": "stdout"
        }
      ]
    },
    {
      "metadata": {
        "id": "ynBFjPlTgxXb",
        "colab_type": "code",
        "colab": {}
      },
      "cell_type": "code",
      "source": [
        "y_train = np.reshape(y_train, (-1,1))\n",
        "y_test = np.reshape(y_test, (-1,1))"
      ],
      "execution_count": 0,
      "outputs": []
    },
    {
      "metadata": {
        "colab_type": "code",
        "id": "O1HWpF5vit5j",
        "colab": {}
      },
      "cell_type": "code",
      "source": [
        "from sklearn import preprocessing\n",
        "# normalize the data attributes\n",
        "normalized_X_train = preprocessing.normalize(x_train)\n",
        "normalized_X_test = preprocessing.normalize(x_test)\n",
        "# normalized_Y_train = preprocessing.normalize(y_train)\n",
        "# normalize_Y_test = preprocessing.normalize(y_test)"
      ],
      "execution_count": 0,
      "outputs": []
    },
    {
      "metadata": {
        "id": "7My_XlnOzLKd",
        "colab_type": "code",
        "colab": {}
      },
      "cell_type": "code",
      "source": [
        "# split into input (X) and output (Y) variables\n",
        "\n",
        "X = normalized_X_train\n",
        "Y = y_train\n",
        "\n",
        "# print(X)\n",
        "# print(Y)"
      ],
      "execution_count": 0,
      "outputs": []
    },
    {
      "metadata": {
        "id": "JG8q_QmKMArt",
        "colab_type": "code",
        "colab": {}
      },
      "cell_type": "code",
      "source": [
        "# fix random seed for reproducibility\n",
        "np.random.seed(42)"
      ],
      "execution_count": 0,
      "outputs": []
    },
    {
      "metadata": {
        "id": "3jtoQrDb3Qi2",
        "colab_type": "code",
        "colab": {}
      },
      "cell_type": "code",
      "source": [
        "# https://keras.io/getting-started/sequential-model-guide/\n",
        "# instantiate the model as Sequential\n",
        "model = Sequential()"
      ],
      "execution_count": 0,
      "outputs": []
    },
    {
      "metadata": {
        "id": "io8k1V_s3QlJ",
        "colab_type": "code",
        "colab": {}
      },
      "cell_type": "code",
      "source": [
        "# Adding a \"Dense\" layer to our model is how we add \"vanilla\" perceptron-based layers to our neural network\n",
        "model.add(Dense(13, input_dim=13, activation ='relu'))\n",
        "model.add(Dense(10, activation='relu'))\n",
        "model.add(Dense(1, activation='relu'))"
      ],
      "execution_count": 0,
      "outputs": []
    },
    {
      "metadata": {
        "id": "iFOwS-Te3QnS",
        "colab_type": "code",
        "outputId": "d4f92d88-7180-468f-d676-4598f382714b",
        "colab": {
          "base_uri": "https://localhost:8080/",
          "height": 242
        }
      },
      "cell_type": "code",
      "source": [
        "# Compile Model\n",
        "model.compile(optimizer='rmsprop',loss='mse', metrics=['mean_squared_error'])\n",
        "model.summary()"
      ],
      "execution_count": 0,
      "outputs": [
        {
          "output_type": "stream",
          "text": [
            "_________________________________________________________________\n",
            "Layer (type)                 Output Shape              Param #   \n",
            "=================================================================\n",
            "dense_22 (Dense)             (None, 13)                182       \n",
            "_________________________________________________________________\n",
            "dense_23 (Dense)             (None, 10)                140       \n",
            "_________________________________________________________________\n",
            "dense_24 (Dense)             (None, 1)                 11        \n",
            "=================================================================\n",
            "Total params: 333\n",
            "Trainable params: 333\n",
            "Non-trainable params: 0\n",
            "_________________________________________________________________\n"
          ],
          "name": "stdout"
        }
      ]
    },
    {
      "metadata": {
        "id": "jAUy8DyG3QpO",
        "colab_type": "code",
        "outputId": "c8d08ee5-5c69-4865-88da-0938b6cf774e",
        "colab": {
          "base_uri": "https://localhost:8080/",
          "height": 1745
        }
      },
      "cell_type": "code",
      "source": [
        "# Fit the model\n",
        "history = model.fit(X, Y, epochs=50)"
      ],
      "execution_count": 0,
      "outputs": [
        {
          "output_type": "stream",
          "text": [
            "Epoch 1/50\n",
            "404/404 [==============================] - 0s 911us/step - loss: 586.1605 - mean_squared_error: 586.1605\n",
            "Epoch 2/50\n",
            "404/404 [==============================] - 0s 43us/step - loss: 586.1605 - mean_squared_error: 586.1605\n",
            "Epoch 3/50\n",
            "404/404 [==============================] - 0s 40us/step - loss: 586.1605 - mean_squared_error: 586.1605\n",
            "Epoch 4/50\n",
            "404/404 [==============================] - 0s 45us/step - loss: 586.1605 - mean_squared_error: 586.1605\n",
            "Epoch 5/50\n",
            "404/404 [==============================] - 0s 39us/step - loss: 586.1605 - mean_squared_error: 586.1605\n",
            "Epoch 6/50\n",
            "404/404 [==============================] - 0s 44us/step - loss: 586.1605 - mean_squared_error: 586.1605\n",
            "Epoch 7/50\n",
            "404/404 [==============================] - 0s 42us/step - loss: 586.1605 - mean_squared_error: 586.1605\n",
            "Epoch 8/50\n",
            "404/404 [==============================] - 0s 40us/step - loss: 586.1605 - mean_squared_error: 586.1605\n",
            "Epoch 9/50\n",
            "404/404 [==============================] - 0s 41us/step - loss: 586.1605 - mean_squared_error: 586.1605\n",
            "Epoch 10/50\n",
            "404/404 [==============================] - 0s 40us/step - loss: 586.1605 - mean_squared_error: 586.1605\n",
            "Epoch 11/50\n",
            "404/404 [==============================] - 0s 40us/step - loss: 586.1605 - mean_squared_error: 586.1605\n",
            "Epoch 12/50\n",
            "404/404 [==============================] - 0s 53us/step - loss: 586.1605 - mean_squared_error: 586.1605\n",
            "Epoch 13/50\n",
            "404/404 [==============================] - 0s 37us/step - loss: 586.1605 - mean_squared_error: 586.1605\n",
            "Epoch 14/50\n",
            "404/404 [==============================] - 0s 50us/step - loss: 586.1605 - mean_squared_error: 586.1605\n",
            "Epoch 15/50\n",
            "404/404 [==============================] - 0s 44us/step - loss: 586.1605 - mean_squared_error: 586.1605\n",
            "Epoch 16/50\n",
            "404/404 [==============================] - 0s 44us/step - loss: 586.1605 - mean_squared_error: 586.1605\n",
            "Epoch 17/50\n",
            "404/404 [==============================] - 0s 47us/step - loss: 586.1605 - mean_squared_error: 586.1605\n",
            "Epoch 18/50\n",
            "404/404 [==============================] - 0s 45us/step - loss: 586.1605 - mean_squared_error: 586.1605\n",
            "Epoch 19/50\n",
            "404/404 [==============================] - 0s 43us/step - loss: 586.1605 - mean_squared_error: 586.1605\n",
            "Epoch 20/50\n",
            "404/404 [==============================] - 0s 41us/step - loss: 586.1605 - mean_squared_error: 586.1605\n",
            "Epoch 21/50\n",
            "404/404 [==============================] - 0s 45us/step - loss: 586.1605 - mean_squared_error: 586.1605\n",
            "Epoch 22/50\n",
            "404/404 [==============================] - 0s 56us/step - loss: 586.1605 - mean_squared_error: 586.1605\n",
            "Epoch 23/50\n",
            "404/404 [==============================] - 0s 45us/step - loss: 586.1605 - mean_squared_error: 586.1605\n",
            "Epoch 24/50\n",
            "404/404 [==============================] - 0s 45us/step - loss: 586.1605 - mean_squared_error: 586.1605\n",
            "Epoch 25/50\n",
            "404/404 [==============================] - 0s 45us/step - loss: 586.1605 - mean_squared_error: 586.1605\n",
            "Epoch 26/50\n",
            "404/404 [==============================] - 0s 46us/step - loss: 586.1605 - mean_squared_error: 586.1605\n",
            "Epoch 27/50\n",
            "404/404 [==============================] - 0s 40us/step - loss: 586.1605 - mean_squared_error: 586.1605\n",
            "Epoch 28/50\n",
            "404/404 [==============================] - 0s 40us/step - loss: 586.1605 - mean_squared_error: 586.1605\n",
            "Epoch 29/50\n",
            "404/404 [==============================] - 0s 40us/step - loss: 586.1605 - mean_squared_error: 586.1605\n",
            "Epoch 30/50\n",
            "404/404 [==============================] - 0s 41us/step - loss: 586.1605 - mean_squared_error: 586.1605\n",
            "Epoch 31/50\n",
            "404/404 [==============================] - 0s 40us/step - loss: 586.1605 - mean_squared_error: 586.1605\n",
            "Epoch 32/50\n",
            "404/404 [==============================] - 0s 45us/step - loss: 586.1605 - mean_squared_error: 586.1605\n",
            "Epoch 33/50\n",
            "404/404 [==============================] - 0s 42us/step - loss: 586.1605 - mean_squared_error: 586.1605\n",
            "Epoch 34/50\n",
            "404/404 [==============================] - 0s 45us/step - loss: 586.1605 - mean_squared_error: 586.1605\n",
            "Epoch 35/50\n",
            "404/404 [==============================] - 0s 43us/step - loss: 586.1605 - mean_squared_error: 586.1605\n",
            "Epoch 36/50\n",
            "404/404 [==============================] - 0s 45us/step - loss: 586.1605 - mean_squared_error: 586.1605\n",
            "Epoch 37/50\n",
            "404/404 [==============================] - 0s 42us/step - loss: 586.1605 - mean_squared_error: 586.1605\n",
            "Epoch 38/50\n",
            "404/404 [==============================] - 0s 44us/step - loss: 586.1605 - mean_squared_error: 586.1605\n",
            "Epoch 39/50\n",
            "404/404 [==============================] - 0s 47us/step - loss: 586.1605 - mean_squared_error: 586.1605\n",
            "Epoch 40/50\n",
            "404/404 [==============================] - 0s 42us/step - loss: 586.1605 - mean_squared_error: 586.1605\n",
            "Epoch 41/50\n",
            "404/404 [==============================] - 0s 46us/step - loss: 586.1605 - mean_squared_error: 586.1605\n",
            "Epoch 42/50\n",
            "404/404 [==============================] - 0s 57us/step - loss: 586.1605 - mean_squared_error: 586.1605\n",
            "Epoch 43/50\n",
            "404/404 [==============================] - 0s 46us/step - loss: 586.1605 - mean_squared_error: 586.1605\n",
            "Epoch 44/50\n",
            "404/404 [==============================] - 0s 44us/step - loss: 586.1605 - mean_squared_error: 586.1605\n",
            "Epoch 45/50\n",
            "404/404 [==============================] - 0s 41us/step - loss: 586.1605 - mean_squared_error: 586.1605\n",
            "Epoch 46/50\n",
            "404/404 [==============================] - 0s 42us/step - loss: 586.1605 - mean_squared_error: 586.1605\n",
            "Epoch 47/50\n",
            "404/404 [==============================] - 0s 44us/step - loss: 586.1605 - mean_squared_error: 586.1605\n",
            "Epoch 48/50\n",
            "404/404 [==============================] - 0s 53us/step - loss: 586.1605 - mean_squared_error: 586.1605\n",
            "Epoch 49/50\n",
            "404/404 [==============================] - 0s 49us/step - loss: 586.1605 - mean_squared_error: 586.1605\n",
            "Epoch 50/50\n",
            "404/404 [==============================] - 0s 42us/step - loss: 586.1605 - mean_squared_error: 586.1605\n"
          ],
          "name": "stdout"
        }
      ]
    },
    {
      "metadata": {
        "id": "zNr11qzzC2Bs",
        "colab_type": "code",
        "outputId": "3237b2b4-0cbc-4fef-82d4-c0a4daa3d57e",
        "colab": {
          "base_uri": "https://localhost:8080/",
          "height": 86
        }
      },
      "cell_type": "code",
      "source": [
        "#Evaluate the model\n",
        "scores = model.evaluate(normalized_X_test, y_test)\n",
        "test_mse_score, test_mae_score = model.evaluate(normalized_X_test, y_test)\n",
        "print(f\"{model.metrics_names[1]}: {scores[1]*1000}\")\n",
        "test_mse_score"
      ],
      "execution_count": 0,
      "outputs": [
        {
          "output_type": "stream",
          "text": [
            "102/102 [==============================] - 0s 1ms/step\n",
            "102/102 [==============================] - 0s 51us/step\n",
            "mean_squared_error: 615857.8383501838\n"
          ],
          "name": "stdout"
        },
        {
          "output_type": "execute_result",
          "data": {
            "text/plain": [
              "615.8578383501838"
            ]
          },
          "metadata": {
            "tags": []
          },
          "execution_count": 97
        }
      ]
    },
    {
      "metadata": {
        "id": "oY2qKFoKC2Ns",
        "colab_type": "code",
        "outputId": "f7976332-8d7f-48fd-d176-0d206ea4848c",
        "colab": {
          "base_uri": "https://localhost:8080/",
          "height": 276
        }
      },
      "cell_type": "code",
      "source": [
        "training_loss = history.history['loss']\n",
        "epoch_count = range(1, len(training_loss) + 1)\n",
        "\n",
        "plt.plot(epoch_count, training_loss, 'r')\n",
        "plt.show();"
      ],
      "execution_count": 0,
      "outputs": [
        {
          "output_type": "display_data",
          "data": {
            "image/png": "[encoded data removed]",
            "text/plain": [
              "<Figure size 432x288 with 1 Axes>"
            ]
          },
          "metadata": {
            "tags": []
          }
        }
      ]
    },
    {
      "metadata": {
        "id": "LxFb_aXtdywS",
        "colab_type": "code",
        "colab": {}
      },
      "cell_type": "code",
      "source": [
        "history.history"
      ],
      "execution_count": 0,
      "outputs": []
    },
    {
      "metadata": {
        "id": "cyo20J1xC2P_",
        "colab_type": "code",
        "outputId": "650125aa-4eb3-44b5-a583-8a1d7d422680",
        "colab": {
          "base_uri": "https://localhost:8080/",
          "height": 276
        }
      },
      "cell_type": "code",
      "source": [
        "plt.plot(history.history['mean_squared_error'])\n",
        "plt.plot(history.history['loss'])\n",
        "plt.show()"
      ],
      "execution_count": 0,
      "outputs": [
        {
          "output_type": "display_data",
          "data": {
            "image/png": "[encoded data removed]",
            "text/plain": [
              "<Figure size 432x288 with 1 Axes>"
            ]
          },
          "metadata": {
            "tags": []
          }
        }
      ]
    },
    {
      "metadata": {
        "id": "gTsvGNXhsa4v",
        "colab_type": "code",
        "outputId": "14d37129-1631-48f7-e47f-0b3ec53d4179",
        "colab": {
          "base_uri": "https://localhost:8080/",
          "height": 276
        }
      },
      "cell_type": "code",
      "source": [
        "training_accuracy = history.history['mean_squared_error']\n",
        "epoch_count = range(1, len(training_accuracy) + 1)\n",
        "\n",
        "plt.plot(epoch_count, training_accuracy, 'b')\n",
        "plt.show();"
      ],
      "execution_count": 0,
      "outputs": [
        {
          "output_type": "display_data",
          "data": {
            "image/png": "[encoded data removed]",
            "text/plain": [
              "<Figure size 432x288 with 1 Axes>"
            ]
          },
          "metadata": {
            "tags": []
          }
        }
      ]
    },
    {
      "metadata": {
        "id": "6fosItzleE89",
        "colab_type": "text"
      },
      "cell_type": "markdown",
      "source": [
        "Next Problem\n",
        "Use the Keras Library to build an image recognition network using the Fashion-MNIST dataset (also comes with keras)\n",
        "Load and preprocess the image data similar to how we preprocessed the MNIST data in class.\n",
        "Make sure to one-hot encode your category labels\n",
        "Make sure to have your final layer have as many nodes as the number of classes that you want to predict.\n",
        "Try different hyperparameters. What is the highest accuracy that you are able to achieve.\n",
        "Use the history object that is returned from model.fit to make graphs of the model's loss or train/validation accuracies by epoch.\n",
        "Remember that neural networks fall prey to randomness so you may need to run your model multiple times (or use Cross Validation) in order to tell if a change to a hyperparameter is truly producing better results."
      ]
    },
    {
      "metadata": {
        "id": "cYfzppdsNAjK",
        "colab_type": "code",
        "outputId": "763eb663-be90-45b3-f0ee-09552c43a7c0",
        "colab": {
          "base_uri": "https://localhost:8080/",
          "height": 155
        }
      },
      "cell_type": "code",
      "source": [
        "from keras.datasets import fashion_mnist\n",
        "\n",
        "(x_train, y_train), (x_test, y_test) = fashion_mnist.load_data()"
      ],
      "execution_count": 2,
      "outputs": [
        {
          "output_type": "stream",
          "text": [
            "Downloading data from http://fashion-mnist.s3-website.eu-central-1.amazonaws.com/train-labels-idx1-ubyte.gz\n",
            "32768/29515 [=================================] - 0s 3us/step\n",
            "Downloading data from http://fashion-mnist.s3-website.eu-central-1.amazonaws.com/train-images-idx3-ubyte.gz\n",
            "26427392/26421880 [==============================] - 2s 0us/step\n",
            "Downloading data from http://fashion-mnist.s3-website.eu-central-1.amazonaws.com/t10k-labels-idx1-ubyte.gz\n",
            "8192/5148 [===============================================] - 0s 0us/step\n",
            "Downloading data from http://fashion-mnist.s3-website.eu-central-1.amazonaws.com/t10k-images-idx3-ubyte.gz\n",
            "4423680/4422102 [==============================] - 1s 0us/step\n"
          ],
          "name": "stdout"
        }
      ]
    },
    {
      "metadata": {
        "id": "OzDACu2zNAlq",
        "colab_type": "code",
        "colab": {}
      },
      "cell_type": "code",
      "source": [
        "import keras\n",
        "from keras.models import Sequential\n",
        "from keras.layers import Dense, Dropout\n",
        "import numpy as np"
      ],
      "execution_count": 0,
      "outputs": []
    },
    {
      "metadata": {
        "id": "Z5KfeUz6NAnr",
        "colab_type": "code",
        "colab": {}
      },
      "cell_type": "code",
      "source": [
        "# global hyperparameters\n",
        "\n",
        "batch_size = 128\n",
        "num_classes = 10\n",
        "epochs = 20"
      ],
      "execution_count": 0,
      "outputs": []
    },
    {
      "metadata": {
        "id": "03_CLGWyNAqM",
        "colab_type": "code",
        "outputId": "4c3b2851-8577-474b-c786-b66fd61779d6",
        "colab": {
          "base_uri": "https://localhost:8080/",
          "height": 86
        }
      },
      "cell_type": "code",
      "source": [
        "# take a look at the data\n",
        "\n",
        "print(f'Training data : {x_train.shape}')\n",
        "print(f'Training targets: {y_train.shape}')\n",
        "print(f'Testing data : {x_test.shape}')\n",
        "print(f'Testing targets: {y_test.shape}')"
      ],
      "execution_count": 5,
      "outputs": [
        {
          "output_type": "stream",
          "text": [
            "Training data : (60000, 28, 28)\n",
            "Training targets: (60000,)\n",
            "Testing data : (10000, 28, 28)\n",
            "Testing targets: (10000,)\n"
          ],
          "name": "stdout"
        }
      ]
    },
    {
      "metadata": {
        "id": "fKwSpNvdNAsg",
        "colab_type": "code",
        "colab": {}
      },
      "cell_type": "code",
      "source": [
        "x_train = x_train.reshape(60000, 784)\n",
        "x_test = x_test.reshape(10000, 784)\n",
        "y_train = np.reshape(y_train, (-1,1))\n",
        "y_test = np.reshape(y_test, (-1,1))"
      ],
      "execution_count": 0,
      "outputs": []
    },
    {
      "metadata": {
        "id": "6rzKFZpWNAu4",
        "colab_type": "code",
        "outputId": "7aa1d4e4-242e-42dc-fc43-de00bbebe3ff",
        "colab": {
          "base_uri": "https://localhost:8080/",
          "height": 86
        }
      },
      "cell_type": "code",
      "source": [
        "# take a look at the data\n",
        "\n",
        "print(f'Training data : {x_train.shape}')\n",
        "print(f'Training targets: {y_train.shape}')\n",
        "print(f'Testing data : {x_test.shape}')\n",
        "print(f'Testing targets: {y_test.shape}')"
      ],
      "execution_count": 7,
      "outputs": [
        {
          "output_type": "stream",
          "text": [
            "Training data : (60000, 784)\n",
            "Training targets: (60000, 1)\n",
            "Testing data : (10000, 784)\n",
            "Testing targets: (10000, 1)\n"
          ],
          "name": "stdout"
        }
      ]
    },
    {
      "metadata": {
        "id": "Hj1VgDEkNAxF",
        "colab_type": "code",
        "outputId": "7a441c6e-b884-4920-b803-b9466b862b26",
        "colab": {
          "base_uri": "https://localhost:8080/",
          "height": 35
        }
      },
      "cell_type": "code",
      "source": [
        "x_train.dtype, x_test.dtype, y_train.dtype, y_test.dtype"
      ],
      "execution_count": 8,
      "outputs": [
        {
          "output_type": "execute_result",
          "data": {
            "text/plain": [
              "(dtype('uint8'), dtype('uint8'), dtype('uint8'), dtype('uint8'))"
            ]
          },
          "metadata": {
            "tags": []
          },
          "execution_count": 8
        }
      ]
    },
    {
      "metadata": {
        "id": "OviBCHdnNA03",
        "colab_type": "code",
        "outputId": "c5b59b5c-1bfb-4d17-bd9a-683fe4394fcb",
        "colab": {
          "base_uri": "https://localhost:8080/",
          "height": 35
        }
      },
      "cell_type": "code",
      "source": [
        "x_train = x_train.astype('float32')\n",
        "x_test = x_test.astype('float32')\n",
        "x_train.dtype, x_test.dtype, y_train.dtype, y_test.dtype"
      ],
      "execution_count": 9,
      "outputs": [
        {
          "output_type": "execute_result",
          "data": {
            "text/plain": [
              "(dtype('float32'), dtype('float32'), dtype('uint8'), dtype('uint8'))"
            ]
          },
          "metadata": {
            "tags": []
          },
          "execution_count": 9
        }
      ]
    },
    {
      "metadata": {
        "id": "V_GWwiFhNA3O",
        "colab_type": "code",
        "colab": {}
      },
      "cell_type": "code",
      "source": [
        "y_train = keras.utils.to_categorical(y_train, num_classes)\n",
        "y_test = keras.utils.to_categorical(y_test, num_classes)"
      ],
      "execution_count": 0,
      "outputs": []
    },
    {
      "metadata": {
        "id": "5S7P2ETWNA5v",
        "colab_type": "code",
        "outputId": "84583f73-1ed5-45ee-bbae-4b7be259ef7d",
        "colab": {
          "base_uri": "https://localhost:8080/",
          "height": 52
        }
      },
      "cell_type": "code",
      "source": [
        "x_train /= 255\n",
        "x_test /= 255\n",
        "\n",
        "print(x_train.shape[0], 'train samples')\n",
        "print(x_test.shape[0], 'test samples')"
      ],
      "execution_count": 11,
      "outputs": [
        {
          "output_type": "stream",
          "text": [
            "60000 train samples\n",
            "10000 test samples\n"
          ],
          "name": "stdout"
        }
      ]
    },
    {
      "metadata": {
        "id": "Wm7J-qcDNA8K",
        "colab_type": "code",
        "outputId": "ae0aa391-1634-4c37-e2df-cb9f106d7b05",
        "colab": {
          "base_uri": "https://localhost:8080/",
          "height": 52
        }
      },
      "cell_type": "code",
      "source": [
        "# batch_size = 64\n",
        "# num_classes = 10\n",
        "# epochs = 50\n",
        "\n",
        "# # (x_train, y_train), (x_test, y_test) = mnist.load_data()\n",
        "\n",
        "# # Flatten the images\n",
        "# x_train = x_train.reshape(60000, 784)\n",
        "# x_test = x_test.reshape(10000, 784)\n",
        "\n",
        "# x_train = x_train.astype('float32')\n",
        "# x_test = x_test.astype('float32')\n",
        "\n",
        "# y_train = keras.utils.to_categorical(y_train, num_classes)\n",
        "# y_test = keras.utils.to_categorical(y_test, num_classes)\n",
        "\n",
        "# x_train /= 255\n",
        "# x_test /= 255\n",
        "\n",
        "# print(x_train.shape[0], 'train samples')\n",
        "# print(x_test.shape[0], 'test samples')"
      ],
      "execution_count": 0,
      "outputs": [
        {
          "output_type": "stream",
          "text": [
            "60000 train samples\n",
            "10000 test samples\n"
          ],
          "name": "stdout"
        }
      ]
    },
    {
      "metadata": {
        "id": "w9JRsWXRNA-T",
        "colab_type": "code",
        "colab": {}
      },
      "cell_type": "code",
      "source": [
        "# Fit Model\n",
        "model = Sequential()\n",
        "model.add(Dense(25, activation = 'relu', input_shape=(784,)))\n",
        "model.add(Dropout(0.1))\n",
        "model.add(Dense(20, activation='relu'))\n",
        "model.add(Dropout(0.1))\n",
        "model.add(Dense(16, activation='relu'))\n",
        "model.add(Dropout(0.1))\n",
        "model.add(Dense(num_classes, activation='softmax'))\n"
      ],
      "execution_count": 0,
      "outputs": []
    },
    {
      "metadata": {
        "id": "40Ki_ZSRNBDv",
        "colab_type": "code",
        "outputId": "a6f20e98-58fc-423a-cf29-e34d3675fb81",
        "colab": {
          "base_uri": "https://localhost:8080/",
          "height": 380
        }
      },
      "cell_type": "code",
      "source": [
        "# Compile Model\n",
        "model.compile(loss='categorical_crossentropy', optimizer='adam', metrics=['accuracy'])\n",
        "model.summary()"
      ],
      "execution_count": 14,
      "outputs": [
        {
          "output_type": "stream",
          "text": [
            "_________________________________________________________________\n",
            "Layer (type)                 Output Shape              Param #   \n",
            "=================================================================\n",
            "dense_5 (Dense)              (None, 25)                19625     \n",
            "_________________________________________________________________\n",
            "dropout_4 (Dropout)          (None, 25)                0         \n",
            "_________________________________________________________________\n",
            "dense_6 (Dense)              (None, 20)                520       \n",
            "_________________________________________________________________\n",
            "dropout_5 (Dropout)          (None, 20)                0         \n",
            "_________________________________________________________________\n",
            "dense_7 (Dense)              (None, 16)                336       \n",
            "_________________________________________________________________\n",
            "dropout_6 (Dropout)          (None, 16)                0         \n",
            "_________________________________________________________________\n",
            "dense_8 (Dense)              (None, 10)                170       \n",
            "=================================================================\n",
            "Total params: 20,651\n",
            "Trainable params: 20,651\n",
            "Non-trainable params: 0\n",
            "_________________________________________________________________\n"
          ],
          "name": "stdout"
        }
      ]
    },
    {
      "metadata": {
        "id": "1gsz3THINAzd",
        "colab_type": "code",
        "outputId": "389a5f3a-6c68-45d0-c518-bb184ace50f5",
        "colab": {
          "base_uri": "https://localhost:8080/",
          "height": 815
        }
      },
      "cell_type": "code",
      "source": [
        "history = model.fit(x_train, y_train, epochs=epochs, validation_split=.1)\n",
        "scores = model.evaluate(x_test, y_test)"
      ],
      "execution_count": 15,
      "outputs": [
        {
          "output_type": "stream",
          "text": [
            "WARNING:tensorflow:From /usr/local/lib/python3.6/dist-packages/tensorflow/python/ops/math_ops.py:3066: to_int32 (from tensorflow.python.ops.math_ops) is deprecated and will be removed in a future version.\n",
            "Instructions for updating:\n",
            "Use tf.cast instead.\n",
            "Train on 54000 samples, validate on 6000 samples\n",
            "Epoch 1/20\n",
            "54000/54000 [==============================] - 4s 77us/step - loss: 0.8757 - acc: 0.6790 - val_loss: 0.4903 - val_acc: 0.8370\n",
            "Epoch 2/20\n",
            "54000/54000 [==============================] - 3s 62us/step - loss: 0.5747 - acc: 0.7952 - val_loss: 0.4604 - val_acc: 0.8322\n",
            "Epoch 3/20\n",
            "54000/54000 [==============================] - 3s 59us/step - loss: 0.5284 - acc: 0.8134 - val_loss: 0.4337 - val_acc: 0.8435\n",
            "Epoch 4/20\n",
            "54000/54000 [==============================] - 3s 59us/step - loss: 0.4962 - acc: 0.8234 - val_loss: 0.4202 - val_acc: 0.8512\n",
            "Epoch 5/20\n",
            "54000/54000 [==============================] - 3s 59us/step - loss: 0.4795 - acc: 0.8291 - val_loss: 0.4027 - val_acc: 0.8565\n",
            "Epoch 6/20\n",
            "54000/54000 [==============================] - 3s 58us/step - loss: 0.4650 - acc: 0.8341 - val_loss: 0.4099 - val_acc: 0.8583\n",
            "Epoch 7/20\n",
            "54000/54000 [==============================] - 3s 59us/step - loss: 0.4585 - acc: 0.8367 - val_loss: 0.3895 - val_acc: 0.8592\n",
            "Epoch 8/20\n",
            "54000/54000 [==============================] - 3s 58us/step - loss: 0.4511 - acc: 0.8394 - val_loss: 0.3925 - val_acc: 0.8592\n",
            "Epoch 9/20\n",
            "54000/54000 [==============================] - 3s 63us/step - loss: 0.4423 - acc: 0.8419 - val_loss: 0.3878 - val_acc: 0.8608\n",
            "Epoch 10/20\n",
            "54000/54000 [==============================] - 4s 68us/step - loss: 0.4387 - acc: 0.8429 - val_loss: 0.3821 - val_acc: 0.8620\n",
            "Epoch 11/20\n",
            "54000/54000 [==============================] - 3s 62us/step - loss: 0.4299 - acc: 0.8480 - val_loss: 0.3780 - val_acc: 0.8617\n",
            "Epoch 12/20\n",
            "54000/54000 [==============================] - 3s 59us/step - loss: 0.4291 - acc: 0.8466 - val_loss: 0.3841 - val_acc: 0.8625\n",
            "Epoch 13/20\n",
            "54000/54000 [==============================] - 3s 59us/step - loss: 0.4206 - acc: 0.8478 - val_loss: 0.3864 - val_acc: 0.8617\n",
            "Epoch 14/20\n",
            "54000/54000 [==============================] - 3s 59us/step - loss: 0.4223 - acc: 0.8493 - val_loss: 0.3851 - val_acc: 0.8610\n",
            "Epoch 15/20\n",
            "54000/54000 [==============================] - 3s 59us/step - loss: 0.4168 - acc: 0.8518 - val_loss: 0.3861 - val_acc: 0.8643\n",
            "Epoch 16/20\n",
            "54000/54000 [==============================] - 3s 60us/step - loss: 0.4125 - acc: 0.8514 - val_loss: 0.3990 - val_acc: 0.8580\n",
            "Epoch 17/20\n",
            "54000/54000 [==============================] - 3s 62us/step - loss: 0.4080 - acc: 0.8539 - val_loss: 0.3852 - val_acc: 0.8615\n",
            "Epoch 18/20\n",
            "54000/54000 [==============================] - 3s 62us/step - loss: 0.4079 - acc: 0.8541 - val_loss: 0.3873 - val_acc: 0.8612\n",
            "Epoch 19/20\n",
            "54000/54000 [==============================] - 3s 61us/step - loss: 0.4049 - acc: 0.8555 - val_loss: 0.3828 - val_acc: 0.8622\n",
            "Epoch 20/20\n",
            "54000/54000 [==============================] - 3s 61us/step - loss: 0.4052 - acc: 0.8537 - val_loss: 0.3888 - val_acc: 0.8660\n",
            "10000/10000 [==============================] - 0s 27us/step\n"
          ],
          "name": "stdout"
        }
      ]
    },
    {
      "metadata": {
        "id": "3TnllL9ijiXQ",
        "colab_type": "code",
        "colab": {
          "base_uri": "https://localhost:8080/",
          "height": 35
        },
        "outputId": "b14f98e1-db98-4af4-e5aa-14a2325c968a"
      },
      "cell_type": "code",
      "source": [
        "y_pred = model.predict_classes(x_test)\n",
        "print(f'{model.metrics_names[1]}: {scores[1]*100}')"
      ],
      "execution_count": 16,
      "outputs": [
        {
          "output_type": "stream",
          "text": [
            "acc: 85.44\n"
          ],
          "name": "stdout"
        }
      ]
    },
    {
      "metadata": {
        "id": "wFV8XjaNjigA",
        "colab_type": "code",
        "colab": {
          "base_uri": "https://localhost:8080/",
          "height": 270
        },
        "outputId": "3b6a9175-c8d6-48c1-85f7-5a6243ae9179"
      },
      "cell_type": "code",
      "source": [
        "training_loss = history.history['loss']\n",
        "epoch_count = range(1, len(training_loss) + 1)\n",
        "\n",
        "plt.plot(epoch_count, training_loss, 'b')\n",
        "plt.show();"
      ],
      "execution_count": 19,
      "outputs": [
        {
          "output_type": "display_data",
          "data": {
            "image/png": "[encoded data removed]",
            "text/plain": [
              "<Figure size 432x288 with 1 Axes>"
            ]
          },
          "metadata": {
            "tags": []
          }
        }
      ]
    },
    {
      "metadata": {
        "id": "cZttb-oylYpp",
        "colab_type": "code",
        "colab": {
          "base_uri": "https://localhost:8080/",
          "height": 265
        },
        "outputId": "ba427673-705d-4d2e-8a31-d9438ff8d70f"
      },
      "cell_type": "code",
      "source": [
        "training_accuracy = history.history['acc']\n",
        "epoch_count = range(1, len(training_accuracy) + 1)\n",
        "\n",
        "plt.plot(epoch_count, training_accuracy, 'r')\n",
        "plt.show();"
      ],
      "execution_count": 18,
      "outputs": [
        {
          "output_type": "display_data",
          "data": {
            "image/png": "[encoded data removed]",
            "text/plain": [
              "<Figure size 432x288 with 1 Axes>"
            ]
          },
          "metadata": {
            "tags": []
          }
        }
      ]
    },
    {
      "metadata": {
        "id": "AHHvGY2plY0O",
        "colab_type": "code",
        "colab": {}
      },
      "cell_type": "code",
      "source": [
        ""
      ],
      "execution_count": 0,
      "outputs": []
    },
    {
      "metadata": {
        "id": "m6xaYMSBlY-Q",
        "colab_type": "code",
        "colab": {}
      },
      "cell_type": "code",
      "source": [
        ""
      ],
      "execution_count": 0,
      "outputs": []
    },
    {
      "metadata": {
        "id": "_7sdvPbsjiqk",
        "colab_type": "code",
        "colab": {}
      },
      "cell_type": "code",
      "source": [
        ""
      ],
      "execution_count": 0,
      "outputs": []
    },
    {
      "metadata": {
        "id": "ZFhk4UbCNAhl",
        "colab_type": "code",
        "colab": {}
      },
      "cell_type": "code",
      "source": [
        ""
      ],
      "execution_count": 0,
      "outputs": []
    },
    {
      "metadata": {
        "id": "SfcFnOONyuNm",
        "colab_type": "text"
      },
      "cell_type": "markdown",
      "source": [
        "## Use the Keras Library to build an image recognition network using the Fashion-MNIST dataset (also comes with keras)\n",
        "\n",
        "- Load and preprocess the image data similar to how we preprocessed the MNIST data in class.\n",
        "- Make sure to one-hot encode your category labels\n",
        "- Make sure to have your final layer have as many nodes as the number of classes that you want to predict.\n",
        "- Try different hyperparameters. What is the highest accuracy that you are able to achieve.\n",
        "- Use the history object that is returned from model.fit to make graphs of the model's loss or train/validation accuracies by epoch. \n",
        "- Remember that neural networks fall prey to randomness so you may need to run your model multiple times (or use Cross Validation) in order to tell if a change to a hyperparameter is truly producing better results."
      ]
    },
    {
      "metadata": {
        "id": "szi6-IpuzaH1",
        "colab_type": "code",
        "colab": {}
      },
      "cell_type": "code",
      "source": [
        "##### Your Code Here #####"
      ],
      "execution_count": 0,
      "outputs": []
    },
    {
      "metadata": {
        "id": "zv_3xNMjzdLI",
        "colab_type": "text"
      },
      "cell_type": "markdown",
      "source": [
        "## Stretch Goals:\n",
        "\n",
        "- Use Hyperparameter Tuning to make the accuracy of your models as high as possible. (error as low as possible)\n",
        "- Use Cross Validation techniques to get more consistent results with your model.\n",
        "- Use GridSearchCV to try different combinations of hyperparameters. \n",
        "- Start looking into other types of Keras layers for CNNs and RNNs maybe try and build a CNN model for fashion-MNIST to see how the results compare."
      ]
    }
  ]
}