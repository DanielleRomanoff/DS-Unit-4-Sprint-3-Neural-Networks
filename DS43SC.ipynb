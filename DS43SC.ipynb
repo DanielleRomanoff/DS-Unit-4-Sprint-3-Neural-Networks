{
  "nbformat": 4,
  "nbformat_minor": 0,
  "metadata": {
    "colab": {
      "name": "DS43SC.ipynb",
      "version": "0.3.2",
      "provenance": [],
      "collapsed_sections": [],
      "include_colab_link": true
    },
    "kernelspec": {
      "name": "python3",
      "display_name": "Python 3"
    }
  },
  "cells": [
    {
      "cell_type": "markdown",
      "metadata": {
        "id": "view-in-github",
        "colab_type": "text"
      },
      "source": [
        "<a href=\"https://colab.research.google.com/github/DanielleRomanoff/DS-Unit-4-Sprint-3-Neural-Networks/blob/master/DS43SC.ipynb\" target=\"_parent\"><img src=\"https://colab.research.google.com/assets/colab-badge.svg\" alt=\"Open In Colab\"/></a>"
      ]
    },
    {
      "metadata": {
        "id": "Y6SKlgYrpcym",
        "colab_type": "text"
      },
      "cell_type": "markdown",
      "source": [
        "# Neural Networks Sprint Challenge"
      ]
    },
    {
      "metadata": {
        "id": "BrEbRrjVphPM",
        "colab_type": "text"
      },
      "cell_type": "markdown",
      "source": [
        "## 1) Define the following terms:\n",
        "\n",
        "- Neuron - *A basic unit of computation in a neural network. Called a node or unit. It receives input from some other nodes or external sources.*\n",
        "- Input Layer - *The layer receives input for the dataset. Might be referred to as the visible layer bcause it's the only part that interacts with the data and is exposed to it.*\n",
        "- Hidden Layer - *The layers that come after the input layer but before the output layer. Hidden layers cannot be accessed except through the input layer and are not interacted with*\n",
        "- Output Layer - *This is the final layer. The output layer provides a vector of values. Usually it's modified by an activation function to put it into a format that works for our context.*\n",
        "- Activation - *The activation function introduces non-linearity into the output. Most of our lives are not linear. Therefore, an activation function takes an output value and performs a mathematical operation on it.*\n",
        "- Backpropagation - *Improves the accuracy of predictions in data mining and machine learning. Neural Networks use it as an algorithm to find gradient descent with respect to the weights. Here, the weights are updated backwards from output to input."
      ]
    },
    {
      "metadata": {
        "id": "Q5EksLqnp4oB",
        "colab_type": "text"
      },
      "cell_type": "markdown",
      "source": [
        " YOUR ANSWER HERE"
      ]
    },
    {
      "metadata": {
        "id": "Ri_gRA2Jp728",
        "colab_type": "text"
      },
      "cell_type": "markdown",
      "source": [
        "## 2) Create a perceptron class that can model the behavior of an AND gate. You can use the following table as your training data:\n",
        "\n",
        "| x1 | x2 | x3 | y |\n",
        "|----|----|----|---|\n",
        "| 1  | 1  | 1  | 1 |\n",
        "| 1  | 0  | 1  | 0 |\n",
        "| 0  | 1  | 1  | 0 |\n",
        "| 0  | 0  | 1  | 0 |"
      ]
    },
    {
      "metadata": {
        "id": "Ig6ZTH8tpQ19",
        "colab_type": "code",
        "colab": {}
      },
      "cell_type": "code",
      "source": [
        "# linear algebra\n",
        "import numpy as np \n",
        "from numpy import array\n",
        "from numpy import argmax\n",
        "\n",
        "# data processing\n",
        "import pandas as pd \n",
        "\n",
        "# data visualization\n",
        "%matplotlib inline\n",
        "from matplotlib import pyplot as plt\n",
        "from matplotlib import style\n",
        "import seaborn as sns\n",
        "\n",
        "\n",
        "import tensorflow as tf\n",
        "import keras\n",
        "from keras import models\n",
        "from keras import layers\n",
        "from keras.models import Sequential\n",
        "from keras.layers import Dense\n",
        "from keras.layers import Dropout\n",
        "from keras.optimizers import SGD, Adam, Nadam\n",
        "from keras.wrappers.scikit_learn import KerasClassifier\n",
        "\n",
        "\n",
        "from sklearn import preprocessing\n",
        "from sklearn.metrics import mean_squared_error\n",
        "from sklearn.model_selection import train_test_split,cross_val_score, StratifiedKFold, KFold, GridSearchCV \n",
        "from sklearn.pipeline import Pipeline\n",
        "from sklearn.preprocessing import StandardScaler\n",
        "from sklearn.linear_model import LinearRegression"
      ],
      "execution_count": 0,
      "outputs": []
    },
    {
      "metadata": {
        "id": "UsNJbEWHE1q2",
        "colab_type": "code",
        "outputId": "b948aee4-e07a-4c6e-86dc-8645f71cdcba",
        "colab": {
          "base_uri": "https://localhost:8080/",
          "height": 121
        }
      },
      "cell_type": "code",
      "source": [
        "inputs = np.array([[1, 1, 1, 1],\n",
        "    [1, 1., 0, 1],\n",
        "    [1, 0., 1, 1],\n",
        "    [1, 0, 0, 1]])\n",
        "\n",
        "# Ideal outputs\n",
        "correct_outputs = [[1],\n",
        "    [0],\n",
        "    [0],\n",
        "   [0]]\n",
        "\n",
        "print('Inputs are: \\n', inputs)\n",
        "print('Correct Output is: ',correct_outputs)"
      ],
      "execution_count": 171,
      "outputs": [
        {
          "output_type": "stream",
          "text": [
            "Inputs are: \n",
            " [[1. 1. 1. 1.]\n",
            " [1. 1. 0. 1.]\n",
            " [1. 0. 1. 1.]\n",
            " [1. 0. 0. 1.]]\n",
            "Correct Output is:  [[1], [0], [0], [0]]\n"
          ],
          "name": "stdout"
        }
      ]
    },
    {
      "metadata": {
        "id": "NjUtP6glE1zL",
        "colab_type": "code",
        "colab": {}
      },
      "cell_type": "code",
      "source": [
        "def sigmoid(x):\n",
        "    return 1/(1+np.exp(-x))\n",
        "\n",
        "def sigmoid_derivative(x):\n",
        "    return sigmoid(x) * (1 - sigmoid(x))"
      ],
      "execution_count": 0,
      "outputs": []
    },
    {
      "metadata": {
        "id": "wumiIcmUE11j",
        "colab_type": "code",
        "outputId": "c70c3699-1bc3-4769-a961-6ec7b35fb7b8",
        "colab": {
          "base_uri": "https://localhost:8080/",
          "height": 86
        }
      },
      "cell_type": "code",
      "source": [
        "# Random weights\n",
        "weights = 2 * np.random.random((4,1))-1\n",
        "weights"
      ],
      "execution_count": 173,
      "outputs": [
        {
          "output_type": "execute_result",
          "data": {
            "text/plain": [
              "array([[-0.50773023],\n",
              "       [-0.40693517],\n",
              "       [-0.36498742],\n",
              "       [-0.69987018]])"
            ]
          },
          "metadata": {
            "tags": []
          },
          "execution_count": 173
        }
      ]
    },
    {
      "metadata": {
        "id": "EPJMHJhDE15X",
        "colab_type": "code",
        "outputId": "4a7a8599-0882-4b4c-c754-d110bf220c49",
        "colab": {
          "base_uri": "https://localhost:8080/",
          "height": 86
        }
      },
      "cell_type": "code",
      "source": [
        " # Weighted sum of inputs and weights\n",
        "weighted_sum = np.dot(inputs, weights)\n",
        "weighted_sum"
      ],
      "execution_count": 174,
      "outputs": [
        {
          "output_type": "execute_result",
          "data": {
            "text/plain": [
              "array([[-1.97952299],\n",
              "       [-1.61453557],\n",
              "       [-1.57258782],\n",
              "       [-1.2076004 ]])"
            ]
          },
          "metadata": {
            "tags": []
          },
          "execution_count": 174
        }
      ]
    },
    {
      "metadata": {
        "id": "RK-lbEvjE18P",
        "colab_type": "code",
        "outputId": "96d2d602-825c-478a-c65a-48a7c30d96d6",
        "colab": {
          "base_uri": "https://localhost:8080/",
          "height": 86
        }
      },
      "cell_type": "code",
      "source": [
        "# Activate with sigmoid function\n",
        "activated_output = sigmoid(weighted_sum)\n",
        "activated_output"
      ],
      "execution_count": 175,
      "outputs": [
        {
          "output_type": "execute_result",
          "data": {
            "text/plain": [
              "array([[0.1213697 ],\n",
              "       [0.16595986],\n",
              "       [0.17184779],\n",
              "       [0.23012591]])"
            ]
          },
          "metadata": {
            "tags": []
          },
          "execution_count": 175
        }
      ]
    },
    {
      "metadata": {
        "id": "0Vy7d4LGGG9Z",
        "colab_type": "code",
        "outputId": "9a0508f2-8f44-4d74-9f83-08e7d5d70a09",
        "colab": {
          "base_uri": "https://localhost:8080/",
          "height": 86
        }
      },
      "cell_type": "code",
      "source": [
        "  # Calculate Error\n",
        "error = correct_outputs - activated_output\n",
        "error"
      ],
      "execution_count": 176,
      "outputs": [
        {
          "output_type": "execute_result",
          "data": {
            "text/plain": [
              "array([[ 0.8786303 ],\n",
              "       [-0.16595986],\n",
              "       [-0.17184779],\n",
              "       [-0.23012591]])"
            ]
          },
          "metadata": {
            "tags": []
          },
          "execution_count": 176
        }
      ]
    },
    {
      "metadata": {
        "id": "9qs7BVemGG_v",
        "colab_type": "code",
        "outputId": "1f25b469-dedb-45c6-d957-a2894cc1c669",
        "colab": {
          "base_uri": "https://localhost:8080/",
          "height": 86
        }
      },
      "cell_type": "code",
      "source": [
        "# Calculate weight adjustments with sigmoid_derivative\n",
        "adjustments = error * sigmoid_derivative(activated_output)  # Gradient Descent\n",
        "adjustments"
      ],
      "execution_count": 177,
      "outputs": [
        {
          "output_type": "execute_result",
          "data": {
            "text/plain": [
              "array([[ 0.21885064],\n",
              "       [-0.04120559],\n",
              "       [-0.04264632],\n",
              "       [-0.05677646]])"
            ]
          },
          "metadata": {
            "tags": []
          },
          "execution_count": 177
        }
      ]
    },
    {
      "metadata": {
        "id": "spX_Z21GGVJz",
        "colab_type": "code",
        "outputId": "d8f5c668-6652-43b1-ac8a-976249302f35",
        "colab": {
          "base_uri": "https://localhost:8080/",
          "height": 86
        }
      },
      "cell_type": "code",
      "source": [
        " # Update weights\n",
        "weights += np.dot(inputs.T, adjustments)\n",
        "weights"
      ],
      "execution_count": 178,
      "outputs": [
        {
          "output_type": "execute_result",
          "data": {
            "text/plain": [
              "array([[-0.42950796],\n",
              "       [-0.22929012],\n",
              "       [-0.1887831 ],\n",
              "       [-0.62164791]])"
            ]
          },
          "metadata": {
            "tags": []
          },
          "execution_count": 178
        }
      ]
    },
    {
      "metadata": {
        "id": "HzZv1eLqGVMY",
        "colab_type": "code",
        "outputId": "aa319d96-b709-460e-fc23-dc2ef3bee76f",
        "colab": {
          "base_uri": "https://localhost:8080/",
          "height": 190
        }
      },
      "cell_type": "code",
      "source": [
        "for iteration in range(500):\n",
        "  \n",
        "  # Weighted sum of inputs and weights\n",
        "  weighted_sum = np.dot(inputs, weights)\n",
        "  \n",
        "  # Activate with sigmoid function\n",
        "  activated_output = sigmoid(weighted_sum)\n",
        "  \n",
        "  # Calculate Error\n",
        "  error = correct_outputs - activated_output\n",
        "  \n",
        "  # Calculate weight adjustments with sigmoid_derivative\n",
        "  adjustments = error * sigmoid_derivative(activated_output)\n",
        "  \n",
        "  # Update weights\n",
        "  weights += np.dot(inputs.T, adjustments)\n",
        "  \n",
        "print('Optimized weights after training: ')\n",
        "print(weights)\n",
        "\n",
        "print(\"Output After Training:\")\n",
        "print(activated_output)"
      ],
      "execution_count": 179,
      "outputs": [
        {
          "output_type": "stream",
          "text": [
            "Optimized weights after training: \n",
            "[[-4.89277504]\n",
            " [ 6.41984394]\n",
            " [ 6.4198519 ]\n",
            " [-5.084915  ]]\n",
            "Output After Training:\n",
            "[[9.45834016e-01]\n",
            " [2.77638387e-02]\n",
            " [2.77640551e-02]\n",
            " [4.66993027e-05]]\n"
          ],
          "name": "stdout"
        }
      ]
    },
    {
      "metadata": {
        "id": "86HyRi8Osr3U",
        "colab_type": "text"
      },
      "cell_type": "markdown",
      "source": [
        "## 3) Implement a Neural Network Multilayer Perceptron class that uses backpropagation to update the network's weights. \n",
        "- Your network must have one hidden layer. \n",
        "- You do not have to update weights via gradient descent. You can use something like the derivative of the sigmoid function to update weights.\n",
        "- Train your model on the Heart Disease dataset from UCI:\n",
        "\n",
        "[Github Dataset](https://github.com/ryanleeallred/datasets/blob/master/heart.csv)\n",
        "\n",
        "[Raw File on Github](https://raw.githubusercontent.com/ryanleeallred/datasets/master/heart.csv)\n"
      ]
    },
    {
      "metadata": {
        "id": "CNfiajv3v4Ed",
        "colab_type": "code",
        "outputId": "9d663e1b-b014-4716-9973-f7762298230c",
        "colab": {
          "base_uri": "https://localhost:8080/",
          "height": 198
        }
      },
      "cell_type": "code",
      "source": [
        "# Load data\n",
        "heart = pd.read_csv('https://raw.githubusercontent.com/ryanleeallred/datasets/master/heart.csv')\n",
        "heart.head()"
      ],
      "execution_count": 180,
      "outputs": [
        {
          "output_type": "execute_result",
          "data": {
            "text/html": [
              "<div>\n",
              "<style scoped>\n",
              "    .dataframe tbody tr th:only-of-type {\n",
              "        vertical-align: middle;\n",
              "    }\n",
              "\n",
              "    .dataframe tbody tr th {\n",
              "        vertical-align: top;\n",
              "    }\n",
              "\n",
              "    .dataframe thead th {\n",
              "        text-align: right;\n",
              "    }\n",
              "</style>\n",
              "<table border=\"1\" class=\"dataframe\">\n",
              "  <thead>\n",
              "    <tr style=\"text-align: right;\">\n",
              "      <th></th>\n",
              "      <th>age</th>\n",
              "      <th>sex</th>\n",
              "      <th>cp</th>\n",
              "      <th>trestbps</th>\n",
              "      <th>chol</th>\n",
              "      <th>fbs</th>\n",
              "      <th>restecg</th>\n",
              "      <th>thalach</th>\n",
              "      <th>exang</th>\n",
              "      <th>oldpeak</th>\n",
              "      <th>slope</th>\n",
              "      <th>ca</th>\n",
              "      <th>thal</th>\n",
              "      <th>target</th>\n",
              "    </tr>\n",
              "  </thead>\n",
              "  <tbody>\n",
              "    <tr>\n",
              "      <th>0</th>\n",
              "      <td>63</td>\n",
              "      <td>1</td>\n",
              "      <td>3</td>\n",
              "      <td>145</td>\n",
              "      <td>233</td>\n",
              "      <td>1</td>\n",
              "      <td>0</td>\n",
              "      <td>150</td>\n",
              "      <td>0</td>\n",
              "      <td>2.3</td>\n",
              "      <td>0</td>\n",
              "      <td>0</td>\n",
              "      <td>1</td>\n",
              "      <td>1</td>\n",
              "    </tr>\n",
              "    <tr>\n",
              "      <th>1</th>\n",
              "      <td>37</td>\n",
              "      <td>1</td>\n",
              "      <td>2</td>\n",
              "      <td>130</td>\n",
              "      <td>250</td>\n",
              "      <td>0</td>\n",
              "      <td>1</td>\n",
              "      <td>187</td>\n",
              "      <td>0</td>\n",
              "      <td>3.5</td>\n",
              "      <td>0</td>\n",
              "      <td>0</td>\n",
              "      <td>2</td>\n",
              "      <td>1</td>\n",
              "    </tr>\n",
              "    <tr>\n",
              "      <th>2</th>\n",
              "      <td>41</td>\n",
              "      <td>0</td>\n",
              "      <td>1</td>\n",
              "      <td>130</td>\n",
              "      <td>204</td>\n",
              "      <td>0</td>\n",
              "      <td>0</td>\n",
              "      <td>172</td>\n",
              "      <td>0</td>\n",
              "      <td>1.4</td>\n",
              "      <td>2</td>\n",
              "      <td>0</td>\n",
              "      <td>2</td>\n",
              "      <td>1</td>\n",
              "    </tr>\n",
              "    <tr>\n",
              "      <th>3</th>\n",
              "      <td>56</td>\n",
              "      <td>1</td>\n",
              "      <td>1</td>\n",
              "      <td>120</td>\n",
              "      <td>236</td>\n",
              "      <td>0</td>\n",
              "      <td>1</td>\n",
              "      <td>178</td>\n",
              "      <td>0</td>\n",
              "      <td>0.8</td>\n",
              "      <td>2</td>\n",
              "      <td>0</td>\n",
              "      <td>2</td>\n",
              "      <td>1</td>\n",
              "    </tr>\n",
              "    <tr>\n",
              "      <th>4</th>\n",
              "      <td>57</td>\n",
              "      <td>0</td>\n",
              "      <td>0</td>\n",
              "      <td>120</td>\n",
              "      <td>354</td>\n",
              "      <td>0</td>\n",
              "      <td>1</td>\n",
              "      <td>163</td>\n",
              "      <td>1</td>\n",
              "      <td>0.6</td>\n",
              "      <td>2</td>\n",
              "      <td>0</td>\n",
              "      <td>2</td>\n",
              "      <td>1</td>\n",
              "    </tr>\n",
              "  </tbody>\n",
              "</table>\n",
              "</div>"
            ],
            "text/plain": [
              "   age  sex  cp  trestbps  chol  fbs  restecg  thalach  exang  oldpeak  slope  \\\n",
              "0   63    1   3       145   233    1        0      150      0      2.3      0   \n",
              "1   37    1   2       130   250    0        1      187      0      3.5      0   \n",
              "2   41    0   1       130   204    0        0      172      0      1.4      2   \n",
              "3   56    1   1       120   236    0        1      178      0      0.8      2   \n",
              "4   57    0   0       120   354    0        1      163      1      0.6      2   \n",
              "\n",
              "   ca  thal  target  \n",
              "0   0     1       1  \n",
              "1   0     2       1  \n",
              "2   0     2       1  \n",
              "3   0     2       1  \n",
              "4   0     2       1  "
            ]
          },
          "metadata": {
            "tags": []
          },
          "execution_count": 180
        }
      ]
    },
    {
      "metadata": {
        "id": "iqXidEBqIFjL",
        "colab_type": "code",
        "colab": {
          "base_uri": "https://localhost:8080/",
          "height": 276
        },
        "outputId": "34319035-c321-4cc0-e9ec-9955e76202da"
      },
      "cell_type": "code",
      "source": [
        "# Checking for nulls Yay NONE\n",
        "heart.isnull().sum()"
      ],
      "execution_count": 181,
      "outputs": [
        {
          "output_type": "execute_result",
          "data": {
            "text/plain": [
              "age         0\n",
              "sex         0\n",
              "cp          0\n",
              "trestbps    0\n",
              "chol        0\n",
              "fbs         0\n",
              "restecg     0\n",
              "thalach     0\n",
              "exang       0\n",
              "oldpeak     0\n",
              "slope       0\n",
              "ca          0\n",
              "thal        0\n",
              "target      0\n",
              "dtype: int64"
            ]
          },
          "metadata": {
            "tags": []
          },
          "execution_count": 181
        }
      ]
    },
    {
      "metadata": {
        "id": "zfUS1J8oIFtE",
        "colab_type": "code",
        "colab": {
          "base_uri": "https://localhost:8080/",
          "height": 332
        },
        "outputId": "8bb2dcd2-c0f2-4f34-9992-3a36e3fd0231"
      },
      "cell_type": "code",
      "source": [
        "pos_target =  'target'\n",
        "neg_target =  'negative'\n",
        "fig, axes = plt.subplots(nrows=1, ncols=2,figsize=(10, 4))\n",
        "women = heart[heart['sex'] == 0]\n",
        "men =heart[heart['sex'] == 1]\n",
        "\n",
        "ax = sns.distplot(women[women['target'] == 1], bins=18, color=sns.diverging_palette(128, 240, n=14) , label = pos_target, ax = axes[0], kde =False)\n",
        "ax = sns.distplot(women[women['target'] == 0], bins=40, color=sns.diverging_palette(128, 240, n=14), label = neg_target, ax = axes[0], kde =False)\n",
        "ax.legend()\n",
        "ax.set_title('Female')\n",
        "current_palette = sns.color_palette()\n",
        "ax = sns.distplot(men[men['target'] == 1], bins=18, color=current_palette_14, label = pos_target, ax = axes[0], kde =False)\n",
        "ax = sns.distplot(men[men['target'] == 0], bins=40, color=sns.diverging_palette(128, 240, n=14) , label = neg_target, ax = axes[1], kde = False )\n",
        "ax.legend()\n",
        "_ = ax.set_title('Male')"
      ],
      "execution_count": 186,
      "outputs": [
        {
          "output_type": "stream",
          "text": [
            "/usr/local/lib/python3.6/dist-packages/matplotlib/axes/_axes.py:6521: MatplotlibDeprecationWarning: \n",
            "The 'normed' kwarg was deprecated in Matplotlib 2.1 and will be removed in 3.1. Use 'density' instead.\n",
            "  alternative=\"'density'\", removal=\"3.1\")\n"
          ],
          "name": "stderr"
        },
        {
          "output_type": "display_data",
          "data": {
            "image/png": "[encoded data removed]",
            "text/plain": [
              "<Figure size 720x288 with 2 Axes>"
            ]
          },
          "metadata": {
            "tags": []
          }
        }
      ]
    },
    {
      "metadata": {
        "id": "E62bQk3SIFvt",
        "colab_type": "code",
        "colab": {
          "base_uri": "https://localhost:8080/",
          "height": 331
        },
        "outputId": "60b1292c-3c5b-428b-df01-cdcf644cc490"
      },
      "cell_type": "code",
      "source": [
        "sns.barplot(x='cp', y='target', data=heart)"
      ],
      "execution_count": 187,
      "outputs": [
        {
          "output_type": "stream",
          "text": [
            "/usr/local/lib/python3.6/dist-packages/seaborn/categorical.py:1428: FutureWarning: remove_na is deprecated and is a private function. Do not use.\n",
            "  stat_data = remove_na(group_data)\n"
          ],
          "name": "stderr"
        },
        {
          "output_type": "execute_result",
          "data": {
            "text/plain": [
              "<matplotlib.axes._subplots.AxesSubplot at 0x7fce96688cc0>"
            ]
          },
          "metadata": {
            "tags": []
          },
          "execution_count": 187
        },
        {
          "output_type": "display_data",
          "data": {
            "image/png": "[encoded data removed]",
            "text/plain": [
              "<Figure size 432x288 with 1 Axes>"
            ]
          },
          "metadata": {
            "tags": []
          }
        }
      ]
    },
    {
      "metadata": {
        "id": "Ayy-UJlkIFx5",
        "colab_type": "code",
        "colab": {
          "base_uri": "https://localhost:8080/",
          "height": 86
        },
        "outputId": "1390c4d6-0806-4729-ad2b-0c6325448e86"
      },
      "cell_type": "code",
      "source": [
        "y = heart['target']\n",
        "X= heart.drop(['target'], axis=1)\n",
        "# Splitting data into train and test data\n",
        "X_train, X_test, y_train, y_test = train_test_split(x, y, test_size=0.2, random_state=42)\n",
        "\n",
        "\n",
        "\n",
        "# Confirming correct shapes of data\n",
        "print(\"X_train shape is: \", (X_train.shape))\n",
        "print(\"X_test shape is: \",(X_test.shape))\n",
        "print(\"y_train shape is: \",(y_train.shape))\n",
        "print(\"y_trest shape is: \",(y_test.shape))"
      ],
      "execution_count": 188,
      "outputs": [
        {
          "output_type": "stream",
          "text": [
            "X_train shape is:  (242, 13)\n",
            "X_test shape is:  (61, 13)\n",
            "y_train shape is:  (242,)\n",
            "y_trest shape is:  (61,)\n"
          ],
          "name": "stdout"
        }
      ]
    },
    {
      "metadata": {
        "id": "DXWWLlMJWp3_",
        "colab_type": "code",
        "colab": {}
      },
      "cell_type": "code",
      "source": [
        "class Neural_Network(object):\n",
        "  def __init__(self):\n",
        "    self.inputs =13\n",
        "    self.hiddenNodes = 4\n",
        "    self.outputNodes = 1\n",
        "    \n",
        "    # Initlize Weights\n",
        "    self.L1_weights = np.random.randn(self.inputs, self.hiddenNodes) # (3x4)\n",
        "    self.L2_weights = np.random.randn(self.hiddenNodes, self.outputNodes) # (4x1)"
      ],
      "execution_count": 0,
      "outputs": []
    },
    {
      "metadata": {
        "id": "s0GMB-hJWqAB",
        "colab_type": "code",
        "colab": {
          "base_uri": "https://localhost:8080/",
          "height": 345
        },
        "outputId": "f84e1c4d-465e-4029-9be9-d4858423f912"
      },
      "cell_type": "code",
      "source": [
        "NN = Neural_Network()\n",
        "\n",
        "print(\"Layer 1 weights: \\n\", NN.L1_weights)\n",
        "print(\"Layer 2 weights: \\n\", NN.L2_weights)"
      ],
      "execution_count": 190,
      "outputs": [
        {
          "output_type": "stream",
          "text": [
            "Layer 1 weights: \n",
            " [[-3.54521916e-01 -1.62847641e+00 -5.61145572e-01 -9.08664273e-01]\n",
            " [-5.54690867e-01  1.06835571e+00 -1.23371630e+00  3.26544197e-01]\n",
            " [ 1.21132047e+00  4.53728606e-01 -2.96290464e-02  1.94976743e+00]\n",
            " [ 1.35318292e-01  1.24805561e-01  6.38011922e-01 -1.15768779e+00]\n",
            " [ 4.20497179e-01 -6.83406715e-01 -1.93778857e+00  5.98887621e-01]\n",
            " [ 6.54738031e-01  2.77977673e-01  7.14947340e-01 -8.58146452e-02]\n",
            " [ 1.33982670e+00  2.20780192e+00  2.46823271e-01  1.19710956e+00]\n",
            " [-8.56841516e-01  1.32035098e+00  5.94422212e-01  2.21180703e+00]\n",
            " [-1.03471193e+00 -6.80625364e-01 -5.48852925e-01  9.20270660e-01]\n",
            " [ 7.64720720e-01 -2.14655405e+00  2.90888243e-01 -5.87342691e-01]\n",
            " [ 4.04541356e-02 -2.84164481e+00 -3.47945221e-01  1.08159347e-02]\n",
            " [ 7.80430449e-01  2.12999049e-03  9.79055776e-02 -1.14835968e+00]\n",
            " [ 4.53734982e-01 -1.51818676e+00 -9.77118635e-01 -3.86725446e-01]]\n",
            "Layer 2 weights: \n",
            " [[-0.74914759]\n",
            " [-0.74686157]\n",
            " [ 1.0583499 ]\n",
            " [-1.30340621]]\n"
          ],
          "name": "stdout"
        }
      ]
    },
    {
      "metadata": {
        "id": "B5gDvmEzIF0z",
        "colab_type": "code",
        "colab": {}
      },
      "cell_type": "code",
      "source": [
        "class Neural_Network(object):\n",
        "    def __init__(self):\n",
        "        self.inputs = 13\n",
        "        self.hiddenNodes = 4\n",
        "        self.outputNodes =1\n",
        "        \n",
        "        # Initialize weights\n",
        "        self.L1_weights = np.random.randn(self.inputs, self.hiddenNodes) #(13x4)\n",
        "#       self.L2_weights = np.random.randn(self.hiddenNodes, self.hiddenNodes)\n",
        "        self.L2_weights = np.random.randn(self.hiddenNodes, self.outputNodes)  #(4x1)\n",
        "    \n",
        "    def feed_forward(self, X):\n",
        "        # Weighted sum between inputs and hidden layer\n",
        "        self.hidden_sum = np.dot(X, self.L1_weights)\n",
        "        # Activations on weighted sum\n",
        "        self.activated_hidden = self.sigmoid(self.hidden_sum)\n",
        "        # Weighted sum between hidden and output\n",
        "        self.output_sum = np.dot(self.activated_hidden, self.L2_weights)\n",
        "        # final activation of output\n",
        "        self.activated_output = self.sigmoid(self.output_sum)\n",
        "        return self.activated_output\n",
        "    \n",
        "    def sigmoid(self, s):\n",
        "        return 1/(1+np.exp(-s))"
      ],
      "execution_count": 0,
      "outputs": []
    },
    {
      "metadata": {
        "id": "Jm6VqWWiIF3k",
        "colab_type": "code",
        "colab": {}
      },
      "cell_type": "code",
      "source": [
        "NN = Neural_Network()\n",
        "output = NN.feed_forward(x)\n",
        "print(\"output: \", output)"
      ],
      "execution_count": 0,
      "outputs": []
    },
    {
      "metadata": {
        "id": "85aYwrfvUS9N",
        "colab_type": "code",
        "colab": {}
      },
      "cell_type": "code",
      "source": [
        "# Backpropogation \n",
        "print(\"Inputs: \\n\", X)\n",
        "print(\"Initial Weights \\n\", NN.L1_weights)\n",
        "print(\"Weighted Sum 1 \\n\", NN.hidden_sum)\n",
        "print(\"Activations from first layer: \\n\", NN.activated_hidden)\n",
        "print(\"Second layer Weights \\n\", NN.L2_weights)\n",
        "print(\"Weighted Sum 2 \\n\", NN.output_sum)\n",
        "print(\"Predictions \\n\", output)\n",
        "print(\"Correct Output: \\n\", y)"
      ],
      "execution_count": 0,
      "outputs": []
    },
    {
      "metadata": {
        "id": "GGT1oRzXw3H9",
        "colab_type": "text"
      },
      "cell_type": "markdown",
      "source": [
        "## 4) Implement a Multilayer Perceptron architecture of your choosing using the Keras library. Train your model and report its baseline accuracy. Then hyperparameter tune at least two parameters and report your model's accuracy. \n",
        "\n",
        "- Use the Heart Disease Dataset (binary classification)\n",
        "- Use an appropriate loss function for a binary classification task\n",
        "- Use an appropriate activation function on the final layer of your network. \n",
        "- Train your model using verbose output for ease of grading.\n",
        "- Use GridSearchCV to hyperparameter tune your model. (for at least two hyperparameters)\n",
        "- When hyperparameter tuning, show you work by adding code cells for each new experiment. \n",
        "- Report the accuracy for each combination of hyperparameters as you test them so that we can easily see which resulted in the highest accuracy.\n",
        "- You must hyperparameter tune at least 5 parameters in order to get a 3 on this section."
      ]
    },
    {
      "metadata": {
        "id": "TI90XOXkg-H6",
        "colab_type": "code",
        "colab": {
          "base_uri": "https://localhost:8080/",
          "height": 198
        },
        "outputId": "f62ecdba-1408-48cc-b372-7bfa2b8caf2e"
      },
      "cell_type": "code",
      "source": [
        "# Load data\n",
        "heart = pd.read_csv('https://raw.githubusercontent.com/ryanleeallred/datasets/master/heart.csv')\n",
        "heart.head()"
      ],
      "execution_count": 194,
      "outputs": [
        {
          "output_type": "execute_result",
          "data": {
            "text/html": [
              "<div>\n",
              "<style scoped>\n",
              "    .dataframe tbody tr th:only-of-type {\n",
              "        vertical-align: middle;\n",
              "    }\n",
              "\n",
              "    .dataframe tbody tr th {\n",
              "        vertical-align: top;\n",
              "    }\n",
              "\n",
              "    .dataframe thead th {\n",
              "        text-align: right;\n",
              "    }\n",
              "</style>\n",
              "<table border=\"1\" class=\"dataframe\">\n",
              "  <thead>\n",
              "    <tr style=\"text-align: right;\">\n",
              "      <th></th>\n",
              "      <th>age</th>\n",
              "      <th>sex</th>\n",
              "      <th>cp</th>\n",
              "      <th>trestbps</th>\n",
              "      <th>chol</th>\n",
              "      <th>fbs</th>\n",
              "      <th>restecg</th>\n",
              "      <th>thalach</th>\n",
              "      <th>exang</th>\n",
              "      <th>oldpeak</th>\n",
              "      <th>slope</th>\n",
              "      <th>ca</th>\n",
              "      <th>thal</th>\n",
              "      <th>target</th>\n",
              "    </tr>\n",
              "  </thead>\n",
              "  <tbody>\n",
              "    <tr>\n",
              "      <th>0</th>\n",
              "      <td>63</td>\n",
              "      <td>1</td>\n",
              "      <td>3</td>\n",
              "      <td>145</td>\n",
              "      <td>233</td>\n",
              "      <td>1</td>\n",
              "      <td>0</td>\n",
              "      <td>150</td>\n",
              "      <td>0</td>\n",
              "      <td>2.3</td>\n",
              "      <td>0</td>\n",
              "      <td>0</td>\n",
              "      <td>1</td>\n",
              "      <td>1</td>\n",
              "    </tr>\n",
              "    <tr>\n",
              "      <th>1</th>\n",
              "      <td>37</td>\n",
              "      <td>1</td>\n",
              "      <td>2</td>\n",
              "      <td>130</td>\n",
              "      <td>250</td>\n",
              "      <td>0</td>\n",
              "      <td>1</td>\n",
              "      <td>187</td>\n",
              "      <td>0</td>\n",
              "      <td>3.5</td>\n",
              "      <td>0</td>\n",
              "      <td>0</td>\n",
              "      <td>2</td>\n",
              "      <td>1</td>\n",
              "    </tr>\n",
              "    <tr>\n",
              "      <th>2</th>\n",
              "      <td>41</td>\n",
              "      <td>0</td>\n",
              "      <td>1</td>\n",
              "      <td>130</td>\n",
              "      <td>204</td>\n",
              "      <td>0</td>\n",
              "      <td>0</td>\n",
              "      <td>172</td>\n",
              "      <td>0</td>\n",
              "      <td>1.4</td>\n",
              "      <td>2</td>\n",
              "      <td>0</td>\n",
              "      <td>2</td>\n",
              "      <td>1</td>\n",
              "    </tr>\n",
              "    <tr>\n",
              "      <th>3</th>\n",
              "      <td>56</td>\n",
              "      <td>1</td>\n",
              "      <td>1</td>\n",
              "      <td>120</td>\n",
              "      <td>236</td>\n",
              "      <td>0</td>\n",
              "      <td>1</td>\n",
              "      <td>178</td>\n",
              "      <td>0</td>\n",
              "      <td>0.8</td>\n",
              "      <td>2</td>\n",
              "      <td>0</td>\n",
              "      <td>2</td>\n",
              "      <td>1</td>\n",
              "    </tr>\n",
              "    <tr>\n",
              "      <th>4</th>\n",
              "      <td>57</td>\n",
              "      <td>0</td>\n",
              "      <td>0</td>\n",
              "      <td>120</td>\n",
              "      <td>354</td>\n",
              "      <td>0</td>\n",
              "      <td>1</td>\n",
              "      <td>163</td>\n",
              "      <td>1</td>\n",
              "      <td>0.6</td>\n",
              "      <td>2</td>\n",
              "      <td>0</td>\n",
              "      <td>2</td>\n",
              "      <td>1</td>\n",
              "    </tr>\n",
              "  </tbody>\n",
              "</table>\n",
              "</div>"
            ],
            "text/plain": [
              "   age  sex  cp  trestbps  chol  fbs  restecg  thalach  exang  oldpeak  slope  \\\n",
              "0   63    1   3       145   233    1        0      150      0      2.3      0   \n",
              "1   37    1   2       130   250    0        1      187      0      3.5      0   \n",
              "2   41    0   1       130   204    0        0      172      0      1.4      2   \n",
              "3   56    1   1       120   236    0        1      178      0      0.8      2   \n",
              "4   57    0   0       120   354    0        1      163      1      0.6      2   \n",
              "\n",
              "   ca  thal  target  \n",
              "0   0     1       1  \n",
              "1   0     2       1  \n",
              "2   0     2       1  \n",
              "3   0     2       1  \n",
              "4   0     2       1  "
            ]
          },
          "metadata": {
            "tags": []
          },
          "execution_count": 194
        }
      ]
    },
    {
      "metadata": {
        "id": "XWw4IYxLxKwH",
        "colab_type": "code",
        "colab": {
          "base_uri": "https://localhost:8080/",
          "height": 86
        },
        "outputId": "1171245c-595c-4131-e357-d232f40502b6"
      },
      "cell_type": "code",
      "source": [
        "# Splitting the data set\n",
        "y = heart['target']\n",
        "X= heart.drop(['target'], axis=1)\n",
        "# Splitting data into train and test data\n",
        "X_train, X_test, y_train, y_test = train_test_split(x, y, test_size=0.2, random_state=42)\n",
        "\n",
        "# Confirming correct shapes of data\n",
        "print(\"X_train shape is: \", (X_train.shape))\n",
        "print(\"X_test shape is: \",(X_test.shape))\n",
        "print(\"y_train shape is: \",(y_train.shape))\n",
        "print(\"y_trest shape is: \",(y_test.shape))"
      ],
      "execution_count": 195,
      "outputs": [
        {
          "output_type": "stream",
          "text": [
            "X_train shape is:  (242, 13)\n",
            "X_test shape is:  (61, 13)\n",
            "y_train shape is:  (242,)\n",
            "y_trest shape is:  (61,)\n"
          ],
          "name": "stdout"
        }
      ]
    },
    {
      "metadata": {
        "id": "z2GQstaYhDKF",
        "colab_type": "code",
        "colab": {
          "base_uri": "https://localhost:8080/",
          "height": 72
        },
        "outputId": "dfc60a8c-0cf0-476f-db29-49b9740465e8"
      },
      "cell_type": "code",
      "source": [
        "y_train = np.reshape(y_train, (-1,1))\n",
        "y_test = np.reshape(y_test, (-1,1))"
      ],
      "execution_count": 196,
      "outputs": [
        {
          "output_type": "stream",
          "text": [
            "/usr/local/lib/python3.6/dist-packages/numpy/core/fromnumeric.py:52: FutureWarning: reshape is deprecated and will raise in a subsequent release. Please use .values.reshape(...) instead\n",
            "  return getattr(obj, method)(*args, **kwds)\n"
          ],
          "name": "stderr"
        }
      ]
    },
    {
      "metadata": {
        "id": "QBNDHfAAgYz1",
        "colab_type": "code",
        "colab": {}
      },
      "cell_type": "code",
      "source": [
        "# Normalize the data (all features should have roughly the same scale)\n",
        "normalized_X_train = preprocessing.normalize(X_train)\n",
        "normalized_X_test = preprocessing.normalize(X_test)"
      ],
      "execution_count": 0,
      "outputs": []
    },
    {
      "metadata": {
        "id": "UP29uLWFjX3C",
        "colab_type": "code",
        "colab": {}
      },
      "cell_type": "code",
      "source": [
        "# global hyperparameters\n",
        "\n",
        "batch_size = 64\n",
        "epochs = 150"
      ],
      "execution_count": 0,
      "outputs": []
    },
    {
      "metadata": {
        "id": "mSqNv-XKavkY",
        "colab_type": "code",
        "colab": {}
      },
      "cell_type": "code",
      "source": [
        "model = Sequential()\n",
        "model.add(Dense(13, activation='relu', input_shape=(13,)))\n",
        "model.add(Dense(13, activation='relu'))\n",
        "model.add(Dense(1, activation='linear'))"
      ],
      "execution_count": 0,
      "outputs": []
    },
    {
      "metadata": {
        "id": "kLEhgPmJavmn",
        "colab_type": "code",
        "colab": {
          "base_uri": "https://localhost:8080/",
          "height": 242
        },
        "outputId": "547727da-42ea-462f-bc7d-7288969c1b59"
      },
      "cell_type": "code",
      "source": [
        "model.compile(loss='mse', optimizer='adam', metrics=['mean_squared_error'])\n",
        "model.summary()"
      ],
      "execution_count": 201,
      "outputs": [
        {
          "output_type": "stream",
          "text": [
            "_________________________________________________________________\n",
            "Layer (type)                 Output Shape              Param #   \n",
            "=================================================================\n",
            "dense_251 (Dense)            (None, 13)                182       \n",
            "_________________________________________________________________\n",
            "dense_252 (Dense)            (None, 13)                182       \n",
            "_________________________________________________________________\n",
            "dense_253 (Dense)            (None, 1)                 14        \n",
            "=================================================================\n",
            "Total params: 378\n",
            "Trainable params: 378\n",
            "Non-trainable params: 0\n",
            "_________________________________________________________________\n"
          ],
          "name": "stdout"
        }
      ]
    },
    {
      "metadata": {
        "id": "hLXkZdrKavow",
        "colab_type": "code",
        "colab": {}
      },
      "cell_type": "code",
      "source": [
        "history = model.fit(X_train, y_train, epochs=epochs, validation_split=0.2, verbose=0)"
      ],
      "execution_count": 0,
      "outputs": []
    },
    {
      "metadata": {
        "id": "Dozru6P1avrY",
        "colab_type": "code",
        "colab": {
          "base_uri": "https://localhost:8080/",
          "height": 279
        },
        "outputId": "301243ef-1174-4582-c5a3-a0a5a5c8802c"
      },
      "cell_type": "code",
      "source": [
        "RMSE_train = np.sqrt(history.history['mean_squared_error'])\n",
        "RMSE_test = np.sqrt(history.history['val_mean_squared_error'])\n",
        "fig, ax = plt.subplots()\n",
        "ax.plot(RMSE_train, label = 'Train')\n",
        "ax.plot(RMSE_test, label = 'Test')\n",
        "ax.set_xlabel('Epoch')\n",
        "ax.set_ylabel('RMSE, Thousands of dollars')\n",
        "plt.legend()\n",
        "plt.show()"
      ],
      "execution_count": 203,
      "outputs": [
        {
          "output_type": "display_data",
          "data": {
            "image/png": "[encoded data removed]",
            "text/plain": [
              "<Figure size 432x288 with 1 Axes>"
            ]
          },
          "metadata": {
            "tags": []
          }
        }
      ]
    },
    {
      "metadata": {
        "id": "oPWeW5eZavvW",
        "colab_type": "code",
        "colab": {
          "base_uri": "https://localhost:8080/",
          "height": 35
        },
        "outputId": "2325f03c-6c59-4c7a-b787-fb9ac93b8e20"
      },
      "cell_type": "code",
      "source": [
        "y_pred = model.predict(X_test)\n",
        "RMSE = np.sqrt(mean_squared_error(y_test, y_pred))\n",
        "\n",
        "print('RMSE from NN: ', RMSE)"
      ],
      "execution_count": 204,
      "outputs": [
        {
          "output_type": "stream",
          "text": [
            "RMSE from NN:  1.2148293660998961\n"
          ],
          "name": "stdout"
        }
      ]
    },
    {
      "metadata": {
        "id": "1ATXvu-Rav0N",
        "colab_type": "code",
        "colab": {}
      },
      "cell_type": "code",
      "source": [
        "# Linear Regression\n",
        "linreg = LinearRegression()\n",
        "linreg.fit(X_train, y_train)\n",
        "y_pred = linreg.predict(X_test)\n",
        "RMSE = np.sqrt(mean_squared_error(y_test, y_pred))"
      ],
      "execution_count": 0,
      "outputs": []
    },
    {
      "metadata": {
        "id": "wmcT4o-Eavx8",
        "colab_type": "code",
        "colab": {
          "base_uri": "https://localhost:8080/",
          "height": 35
        },
        "outputId": "11c11e63-2779-49aa-833f-1963d78b0503"
      },
      "cell_type": "code",
      "source": [
        "print('RMSE from Linear Regression: ', RMSE)"
      ],
      "execution_count": 206,
      "outputs": [
        {
          "output_type": "stream",
          "text": [
            "RMSE from Linear Regression:  0.34098492624865423\n"
          ],
          "name": "stdout"
        }
      ]
    },
    {
      "metadata": {
        "id": "wWB1qD_3avtq",
        "colab_type": "code",
        "colab": {}
      },
      "cell_type": "code",
      "source": [
        "# model \n",
        "from keras.layers.advanced_activations import LeakyReLU, PReLU\n",
        "from keras.layers import Dense, Dropout\n",
        "\n",
        "def create_model(lr=0.05,\n",
        "                 activation='relu',                 \n",
        "                 input_shape=(X_train.shape[1],),\n",
        "                 optimizer=SGD,\n",
        "                 relu_alpha = 0.003,\n",
        "                 dropout_rate = 0.2,\n",
        "                weight_initializer='random_normal'):\n",
        "    \n",
        "    # initialize a model\n",
        "    model = Sequential()\n",
        "    \n",
        "    # add input layer\n",
        "    model.add(Dense(10, input_shape=input_shape, kernel_initializer=weight_initializer,))\n",
        "    model.add(LeakyReLU(alpha=relu_alpha)) \n",
        "    model.add(Dropout(rate=dropout_rate))\n",
        "\n",
        "    \n",
        "    # add hidden layers\n",
        "    model.add(Dense(10, kernel_initializer=weight_initializer,))\n",
        "    model.add(LeakyReLU(alpha=relu_alpha)) \n",
        "    model.add(Dropout(rate=dropout_rate))\n",
        "        \n",
        "    model.add(Dense(10, kernel_initializer=weight_initializer,))\n",
        "    model.add(LeakyReLU(alpha=relu_alpha)) \n",
        "    model.add(Dropout(rate=dropout_rate))\n",
        "    \n",
        "    model.add(Dense(8, kernel_initializer=weight_initializer,))\n",
        "    model.add(LeakyReLU(alpha=relu_alpha)) \n",
        "    model.add(Dropout(rate=dropout_rate))\n",
        "\n",
        "    \n",
        "    # add final output layer\n",
        "    model.add(Dense(1, activation='sigmoid'))\n",
        "    \n",
        "    # optimizer\n",
        "    optimizer=optimizer(lr=lr)\n",
        "    \n",
        "    # compile model\n",
        "    model.compile(optimizer=optimizer, loss='binary_crossentropy', metrics=['acc'])\n",
        "              \n",
        "    return model"
      ],
      "execution_count": 0,
      "outputs": []
    },
    {
      "metadata": {
        "id": "3fNhET-xkYDG",
        "colab_type": "code",
        "colab": {
          "base_uri": "https://localhost:8080/",
          "height": 1123
        },
        "outputId": "52d6b644-225a-44ed-859d-6b86e8868a35"
      },
      "cell_type": "code",
      "source": [
        "# baseline model\n",
        "epochs = 10\n",
        "batch_size = 100\n",
        "\n",
        "model = KerasClassifier(build_fn=create_model, \n",
        "                               epochs=epochs,\n",
        "                               batch_size=batch_size,\n",
        "                               verbose=1)\n",
        "kfold = StratifiedKFold(n_splits=3, random_state=42)\n",
        "results = cross_val_score(model, X, y, cv=kfold)\n",
        "print(f\"K-fold Cross-Val Results - Mean: {results.mean()} StDev: {results.std()} MSE\")"
      ],
      "execution_count": 207,
      "outputs": [
        {
          "output_type": "stream",
          "text": [
            "Epoch 1/10\n",
            "202/202 [==============================] - 5s 23ms/step - loss: 0.6933 - acc: 0.5198\n",
            "Epoch 2/10\n",
            "202/202 [==============================] - 0s 52us/step - loss: 0.6941 - acc: 0.4554\n",
            "Epoch 3/10\n",
            "202/202 [==============================] - 0s 91us/step - loss: 0.6937 - acc: 0.4653\n",
            "Epoch 4/10\n",
            "202/202 [==============================] - 0s 59us/step - loss: 0.6921 - acc: 0.5446\n",
            "Epoch 5/10\n",
            "202/202 [==============================] - 0s 58us/step - loss: 0.6907 - acc: 0.5446\n",
            "Epoch 6/10\n",
            "202/202 [==============================] - 0s 53us/step - loss: 0.6898 - acc: 0.5446\n",
            "Epoch 7/10\n",
            "202/202 [==============================] - 0s 63us/step - loss: 0.6907 - acc: 0.5446\n",
            "Epoch 8/10\n",
            "202/202 [==============================] - 0s 48us/step - loss: 0.6910 - acc: 0.5446\n",
            "Epoch 9/10\n",
            "202/202 [==============================] - 0s 67us/step - loss: 0.6928 - acc: 0.5396\n",
            "Epoch 10/10\n",
            "202/202 [==============================] - 0s 69us/step - loss: 0.6902 - acc: 0.5446\n",
            "101/101 [==============================] - 2s 18ms/step\n",
            "Epoch 1/10\n",
            "202/202 [==============================] - 4s 22ms/step - loss: 0.6924 - acc: 0.5347\n",
            "Epoch 2/10\n",
            "202/202 [==============================] - 0s 66us/step - loss: 0.6905 - acc: 0.5446\n",
            "Epoch 3/10\n",
            "202/202 [==============================] - 0s 63us/step - loss: 0.6911 - acc: 0.5446\n",
            "Epoch 4/10\n",
            "202/202 [==============================] - 0s 61us/step - loss: 0.6913 - acc: 0.5446\n",
            "Epoch 5/10\n",
            "202/202 [==============================] - 0s 57us/step - loss: 0.6930 - acc: 0.5149\n",
            "Epoch 6/10\n",
            "202/202 [==============================] - 0s 62us/step - loss: 0.6929 - acc: 0.5396\n",
            "Epoch 7/10\n",
            "202/202 [==============================] - 0s 62us/step - loss: 0.6930 - acc: 0.5396\n",
            "Epoch 8/10\n",
            "202/202 [==============================] - 0s 71us/step - loss: 0.6910 - acc: 0.5446\n",
            "Epoch 9/10\n",
            "202/202 [==============================] - 0s 52us/step - loss: 0.6887 - acc: 0.5446\n",
            "Epoch 10/10\n",
            "202/202 [==============================] - 0s 52us/step - loss: 0.6903 - acc: 0.5446\n",
            "101/101 [==============================] - 2s 19ms/step\n",
            "Epoch 1/10\n",
            "202/202 [==============================] - 5s 23ms/step - loss: 0.6935 - acc: 0.4505\n",
            "Epoch 2/10\n",
            "202/202 [==============================] - 0s 67us/step - loss: 0.6944 - acc: 0.4406\n",
            "Epoch 3/10\n",
            "202/202 [==============================] - 0s 61us/step - loss: 0.6960 - acc: 0.4554\n",
            "Epoch 4/10\n",
            "202/202 [==============================] - 0s 61us/step - loss: 0.6929 - acc: 0.4802\n",
            "Epoch 5/10\n",
            "202/202 [==============================] - 0s 51us/step - loss: 0.6931 - acc: 0.4653\n",
            "Epoch 6/10\n",
            "202/202 [==============================] - 0s 64us/step - loss: 0.6933 - acc: 0.4851\n",
            "Epoch 7/10\n",
            "202/202 [==============================] - 0s 61us/step - loss: 0.6930 - acc: 0.5396\n",
            "Epoch 8/10\n",
            "202/202 [==============================] - 0s 59us/step - loss: 0.6918 - acc: 0.5446\n",
            "Epoch 9/10\n",
            "202/202 [==============================] - 0s 62us/step - loss: 0.6914 - acc: 0.5594\n",
            "Epoch 10/10\n",
            "202/202 [==============================] - 0s 54us/step - loss: 0.6913 - acc: 0.5495\n",
            "101/101 [==============================] - 2s 19ms/step\n",
            "K-fold Cross-Val Results - Mean: 0.5445544672484445 StDev: 0.0 MSE\n"
          ],
          "name": "stdout"
        }
      ]
    },
    {
      "metadata": {
        "id": "BG0yl_qJkYMx",
        "colab_type": "code",
        "colab": {
          "base_uri": "https://localhost:8080/",
          "height": 13942
        },
        "outputId": "84d22b81-1857-4b45-f06b-57373f31a89e"
      },
      "cell_type": "code",
      "source": [
        "# define the grid search parameters\n",
        "param_grid = {'batch_size': [10, 20, 40, 60, 80, 100],\n",
        "              'epochs': [20]}\n",
        "\n",
        "# Create Grid Search\n",
        "grid = GridSearchCV(estimator=model, param_grid=param_grid, n_jobs=1)\n",
        "grid_result = grid.fit(X, y)\n",
        "\n",
        "# Report Results\n",
        "print(f\"Best: {grid_result.best_score_} using {grid_result.best_params_}\")\n",
        "means = grid_result.cv_results_['mean_test_score']\n",
        "stds = grid_result.cv_results_['std_test_score']\n",
        "params = grid_result.cv_results_['params']\n",
        "for mean, stdev, param in zip(means, stds, params):\n",
        "  print(f\"Means: {mean}, Stdev: {stdev} with: {param}\")"
      ],
      "execution_count": 169,
      "outputs": [
        {
          "output_type": "stream",
          "text": [
            "/usr/local/lib/python3.6/dist-packages/sklearn/model_selection/_split.py:2053: FutureWarning: You should specify a value for 'cv' instead of relying on the default value. The default value will change from 3 to 5 in version 0.22.\n",
            "  warnings.warn(CV_WARNING, FutureWarning)\n"
          ],
          "name": "stderr"
        },
        {
          "output_type": "stream",
          "text": [
            "Epoch 1/20\n",
            "202/202 [==============================] - 3s 15ms/step - loss: 0.6548 - acc: 0.6832\n",
            "Epoch 2/20\n",
            "202/202 [==============================] - 0s 211us/step - loss: 0.6222 - acc: 0.6832\n",
            "Epoch 3/20\n",
            "202/202 [==============================] - 0s 191us/step - loss: 0.6512 - acc: 0.6832\n",
            "Epoch 4/20\n",
            "202/202 [==============================] - 0s 196us/step - loss: 0.6467 - acc: 0.6832\n",
            "Epoch 5/20\n",
            "202/202 [==============================] - 0s 208us/step - loss: 0.6317 - acc: 0.6832\n",
            "Epoch 6/20\n",
            "202/202 [==============================] - 0s 190us/step - loss: 0.6599 - acc: 0.6832\n",
            "Epoch 7/20\n",
            "202/202 [==============================] - 0s 202us/step - loss: 0.6318 - acc: 0.6832\n",
            "Epoch 8/20\n",
            "202/202 [==============================] - 0s 191us/step - loss: 0.6289 - acc: 0.6832\n",
            "Epoch 9/20\n",
            "202/202 [==============================] - 0s 192us/step - loss: 0.6384 - acc: 0.6832\n",
            "Epoch 10/20\n",
            "202/202 [==============================] - 0s 211us/step - loss: 0.6312 - acc: 0.6832\n",
            "Epoch 11/20\n",
            "202/202 [==============================] - 0s 197us/step - loss: 0.6218 - acc: 0.6832\n",
            "Epoch 12/20\n",
            "202/202 [==============================] - 0s 243us/step - loss: 0.6140 - acc: 0.6832\n",
            "Epoch 13/20\n",
            "202/202 [==============================] - 0s 189us/step - loss: 0.6286 - acc: 0.6832\n",
            "Epoch 14/20\n",
            "202/202 [==============================] - 0s 204us/step - loss: 0.6221 - acc: 0.6832\n",
            "Epoch 15/20\n",
            "202/202 [==============================] - 0s 241us/step - loss: 0.6246 - acc: 0.6832\n",
            "Epoch 16/20\n",
            "202/202 [==============================] - 0s 212us/step - loss: 0.6327 - acc: 0.6832\n",
            "Epoch 17/20\n",
            "202/202 [==============================] - 0s 191us/step - loss: 0.6295 - acc: 0.6832\n",
            "Epoch 18/20\n",
            "202/202 [==============================] - 0s 196us/step - loss: 0.6207 - acc: 0.6832\n",
            "Epoch 19/20\n",
            "202/202 [==============================] - 0s 188us/step - loss: 0.6292 - acc: 0.6832\n",
            "Epoch 20/20\n",
            "202/202 [==============================] - 0s 192us/step - loss: 0.6312 - acc: 0.6832\n",
            "101/101 [==============================] - 1s 11ms/step\n",
            "202/202 [==============================] - 0s 120us/step\n",
            "Epoch 1/20\n",
            "202/202 [==============================] - 3s 14ms/step - loss: 0.6924 - acc: 0.5396\n",
            "Epoch 2/20\n",
            "202/202 [==============================] - 0s 190us/step - loss: 0.6950 - acc: 0.4752\n",
            "Epoch 3/20\n",
            "202/202 [==============================] - 0s 191us/step - loss: 0.6942 - acc: 0.4752\n",
            "Epoch 4/20\n",
            "202/202 [==============================] - 0s 181us/step - loss: 0.6939 - acc: 0.5050\n",
            "Epoch 5/20\n",
            "202/202 [==============================] - 0s 191us/step - loss: 0.6948 - acc: 0.5050\n",
            "Epoch 6/20\n",
            "202/202 [==============================] - 0s 192us/step - loss: 0.6914 - acc: 0.5891\n",
            "Epoch 7/20\n",
            "202/202 [==============================] - 0s 221us/step - loss: 0.6897 - acc: 0.5743\n",
            "Epoch 8/20\n",
            "202/202 [==============================] - 0s 187us/step - loss: 0.6907 - acc: 0.5149\n",
            "Epoch 9/20\n",
            "202/202 [==============================] - 0s 198us/step - loss: 0.6853 - acc: 0.5594\n",
            "Epoch 10/20\n",
            "202/202 [==============================] - 0s 187us/step - loss: 0.6960 - acc: 0.5248\n",
            "Epoch 11/20\n",
            "202/202 [==============================] - 0s 186us/step - loss: 0.6898 - acc: 0.5347\n",
            "Epoch 12/20\n",
            "202/202 [==============================] - 0s 205us/step - loss: 0.6877 - acc: 0.5743\n",
            "Epoch 13/20\n",
            "202/202 [==============================] - 0s 186us/step - loss: 0.6866 - acc: 0.5693\n",
            "Epoch 14/20\n",
            "202/202 [==============================] - 0s 195us/step - loss: 0.6845 - acc: 0.5891\n",
            "Epoch 15/20\n",
            "202/202 [==============================] - 0s 206us/step - loss: 0.6781 - acc: 0.5792\n",
            "Epoch 16/20\n",
            "202/202 [==============================] - 0s 208us/step - loss: 0.6842 - acc: 0.6386\n",
            "Epoch 17/20\n",
            "202/202 [==============================] - 0s 187us/step - loss: 0.6955 - acc: 0.5297\n",
            "Epoch 18/20\n",
            "202/202 [==============================] - 0s 206us/step - loss: 0.6740 - acc: 0.5842\n",
            "Epoch 19/20\n",
            "202/202 [==============================] - 0s 182us/step - loss: 0.6725 - acc: 0.6238\n",
            "Epoch 20/20\n",
            "202/202 [==============================] - 0s 207us/step - loss: 0.6807 - acc: 0.5842\n",
            "101/101 [==============================] - 1s 11ms/step\n",
            "202/202 [==============================] - 0s 126us/step\n",
            "Epoch 1/20\n",
            "202/202 [==============================] - 3s 14ms/step - loss: 0.6439 - acc: 0.7970\n",
            "Epoch 2/20\n",
            "202/202 [==============================] - 0s 184us/step - loss: 0.5701 - acc: 0.8168\n",
            "Epoch 3/20\n",
            "202/202 [==============================] - 0s 194us/step - loss: 0.5103 - acc: 0.8168\n",
            "Epoch 4/20\n",
            "202/202 [==============================] - 0s 189us/step - loss: 0.4950 - acc: 0.8168\n",
            "Epoch 5/20\n",
            "202/202 [==============================] - 0s 186us/step - loss: 0.4918 - acc: 0.8168\n",
            "Epoch 6/20\n",
            "202/202 [==============================] - 0s 190us/step - loss: 0.4974 - acc: 0.8168\n",
            "Epoch 7/20\n",
            "202/202 [==============================] - 0s 196us/step - loss: 0.4911 - acc: 0.8168\n",
            "Epoch 8/20\n",
            "202/202 [==============================] - 0s 220us/step - loss: 0.4992 - acc: 0.8168\n",
            "Epoch 9/20\n",
            "202/202 [==============================] - 0s 194us/step - loss: 0.4859 - acc: 0.8168\n",
            "Epoch 10/20\n",
            "202/202 [==============================] - 0s 189us/step - loss: 0.4928 - acc: 0.8168\n",
            "Epoch 11/20\n",
            "202/202 [==============================] - 0s 199us/step - loss: 0.4846 - acc: 0.8168\n",
            "Epoch 12/20\n",
            "202/202 [==============================] - 0s 189us/step - loss: 0.4841 - acc: 0.8168\n",
            "Epoch 13/20\n",
            "202/202 [==============================] - 0s 212us/step - loss: 0.4787 - acc: 0.8168\n",
            "Epoch 14/20\n",
            "202/202 [==============================] - 0s 194us/step - loss: 0.4760 - acc: 0.8168\n",
            "Epoch 15/20\n",
            "202/202 [==============================] - 0s 230us/step - loss: 0.4800 - acc: 0.8168\n",
            "Epoch 16/20\n",
            "202/202 [==============================] - 0s 181us/step - loss: 0.4760 - acc: 0.8168\n",
            "Epoch 17/20\n",
            "202/202 [==============================] - 0s 198us/step - loss: 0.4701 - acc: 0.8168\n",
            "Epoch 18/20\n",
            "202/202 [==============================] - 0s 180us/step - loss: 0.4790 - acc: 0.8168\n",
            "Epoch 19/20\n",
            "202/202 [==============================] - 0s 190us/step - loss: 0.4808 - acc: 0.8168\n",
            "Epoch 20/20\n",
            "202/202 [==============================] - 0s 200us/step - loss: 0.4817 - acc: 0.8168\n",
            "101/101 [==============================] - 1s 12ms/step\n",
            "202/202 [==============================] - 0s 120us/step\n",
            "Epoch 1/20\n",
            "202/202 [==============================] - 3s 15ms/step - loss: 0.6721 - acc: 0.6832\n",
            "Epoch 2/20\n",
            "202/202 [==============================] - 0s 119us/step - loss: 0.6424 - acc: 0.6832\n",
            "Epoch 3/20\n",
            "202/202 [==============================] - 0s 129us/step - loss: 0.6400 - acc: 0.6832\n",
            "Epoch 4/20\n",
            "202/202 [==============================] - 0s 130us/step - loss: 0.6345 - acc: 0.6832\n",
            "Epoch 5/20\n",
            "202/202 [==============================] - 0s 132us/step - loss: 0.6330 - acc: 0.6832\n",
            "Epoch 6/20\n",
            "202/202 [==============================] - 0s 125us/step - loss: 0.6262 - acc: 0.6832\n",
            "Epoch 7/20\n",
            "202/202 [==============================] - 0s 125us/step - loss: 0.6262 - acc: 0.6832\n",
            "Epoch 8/20\n",
            "202/202 [==============================] - 0s 125us/step - loss: 0.6378 - acc: 0.6832\n",
            "Epoch 9/20\n",
            "202/202 [==============================] - 0s 127us/step - loss: 0.6278 - acc: 0.6832\n",
            "Epoch 10/20\n",
            "202/202 [==============================] - 0s 137us/step - loss: 0.6280 - acc: 0.6832\n",
            "Epoch 11/20\n",
            "202/202 [==============================] - 0s 124us/step - loss: 0.6196 - acc: 0.6832\n",
            "Epoch 12/20\n",
            "202/202 [==============================] - 0s 117us/step - loss: 0.6257 - acc: 0.6832\n",
            "Epoch 13/20\n",
            "202/202 [==============================] - 0s 126us/step - loss: 0.6308 - acc: 0.6832\n",
            "Epoch 14/20\n",
            "202/202 [==============================] - 0s 111us/step - loss: 0.6242 - acc: 0.6832\n",
            "Epoch 15/20\n",
            "202/202 [==============================] - 0s 114us/step - loss: 0.6253 - acc: 0.6832\n",
            "Epoch 16/20\n",
            "202/202 [==============================] - 0s 126us/step - loss: 0.6305 - acc: 0.6832\n",
            "Epoch 17/20\n",
            "202/202 [==============================] - 0s 125us/step - loss: 0.6287 - acc: 0.6832\n",
            "Epoch 18/20\n",
            "202/202 [==============================] - 0s 130us/step - loss: 0.6290 - acc: 0.6832\n",
            "Epoch 19/20\n",
            "202/202 [==============================] - 0s 123us/step - loss: 0.6267 - acc: 0.6832\n",
            "Epoch 20/20\n",
            "202/202 [==============================] - 0s 123us/step - loss: 0.6315 - acc: 0.6832\n",
            "101/101 [==============================] - 1s 12ms/step\n",
            "202/202 [==============================] - 0s 81us/step\n",
            "Epoch 1/20\n",
            "202/202 [==============================] - 3s 15ms/step - loss: 0.6944 - acc: 0.5000\n",
            "Epoch 2/20\n",
            "202/202 [==============================] - 0s 146us/step - loss: 0.6943 - acc: 0.4851\n",
            "Epoch 3/20\n",
            "202/202 [==============================] - 0s 125us/step - loss: 0.6923 - acc: 0.5000\n",
            "Epoch 4/20\n",
            "202/202 [==============================] - 0s 121us/step - loss: 0.6932 - acc: 0.5099\n",
            "Epoch 5/20\n",
            "202/202 [==============================] - 0s 129us/step - loss: 0.6932 - acc: 0.5050\n",
            "Epoch 6/20\n",
            "202/202 [==============================] - 0s 123us/step - loss: 0.6915 - acc: 0.5248\n",
            "Epoch 7/20\n",
            "202/202 [==============================] - 0s 124us/step - loss: 0.6897 - acc: 0.5347\n",
            "Epoch 8/20\n",
            "202/202 [==============================] - 0s 140us/step - loss: 0.6910 - acc: 0.5347\n",
            "Epoch 9/20\n",
            "202/202 [==============================] - 0s 166us/step - loss: 0.6936 - acc: 0.4752\n",
            "Epoch 10/20\n",
            "202/202 [==============================] - 0s 152us/step - loss: 0.6936 - acc: 0.4950\n",
            "Epoch 11/20\n",
            "202/202 [==============================] - 0s 122us/step - loss: 0.6904 - acc: 0.5594\n",
            "Epoch 12/20\n",
            "202/202 [==============================] - 0s 122us/step - loss: 0.6858 - acc: 0.5743\n",
            "Epoch 13/20\n",
            "202/202 [==============================] - 0s 127us/step - loss: 0.6930 - acc: 0.5248\n",
            "Epoch 14/20\n",
            "202/202 [==============================] - 0s 137us/step - loss: 0.6965 - acc: 0.4950\n",
            "Epoch 15/20\n",
            "202/202 [==============================] - 0s 118us/step - loss: 0.6951 - acc: 0.5000\n",
            "Epoch 16/20\n",
            "202/202 [==============================] - 0s 124us/step - loss: 0.6937 - acc: 0.4851\n",
            "Epoch 17/20\n",
            "202/202 [==============================] - 0s 123us/step - loss: 0.6929 - acc: 0.5099\n",
            "Epoch 18/20\n",
            "202/202 [==============================] - 0s 127us/step - loss: 0.6939 - acc: 0.5248\n",
            "Epoch 19/20\n",
            "202/202 [==============================] - 0s 112us/step - loss: 0.6946 - acc: 0.4752\n",
            "Epoch 20/20\n",
            "202/202 [==============================] - 0s 117us/step - loss: 0.6935 - acc: 0.4950\n",
            "101/101 [==============================] - 1s 12ms/step\n",
            "202/202 [==============================] - 0s 77us/step\n",
            "Epoch 1/20\n",
            "202/202 [==============================] - 3s 16ms/step - loss: 0.6278 - acc: 0.7772\n",
            "Epoch 2/20\n",
            "202/202 [==============================] - 0s 154us/step - loss: 0.5646 - acc: 0.8168\n",
            "Epoch 3/20\n",
            "202/202 [==============================] - 0s 153us/step - loss: 0.5479 - acc: 0.8168\n",
            "Epoch 4/20\n",
            "202/202 [==============================] - 0s 163us/step - loss: 0.5220 - acc: 0.8168\n",
            "Epoch 5/20\n",
            "202/202 [==============================] - 0s 153us/step - loss: 0.5044 - acc: 0.8168\n",
            "Epoch 6/20\n",
            "202/202 [==============================] - 0s 155us/step - loss: 0.5089 - acc: 0.8168\n",
            "Epoch 7/20\n",
            "202/202 [==============================] - 0s 167us/step - loss: 0.4937 - acc: 0.8168\n",
            "Epoch 8/20\n",
            "202/202 [==============================] - 0s 136us/step - loss: 0.5149 - acc: 0.8168\n",
            "Epoch 9/20\n",
            "202/202 [==============================] - 0s 135us/step - loss: 0.5212 - acc: 0.8168\n",
            "Epoch 10/20\n",
            "202/202 [==============================] - 0s 137us/step - loss: 0.4784 - acc: 0.8168\n",
            "Epoch 11/20\n",
            "202/202 [==============================] - 0s 158us/step - loss: 0.5204 - acc: 0.8168\n",
            "Epoch 12/20\n",
            "202/202 [==============================] - 0s 173us/step - loss: 0.5026 - acc: 0.8168\n",
            "Epoch 13/20\n",
            "202/202 [==============================] - 0s 172us/step - loss: 0.5200 - acc: 0.8168\n",
            "Epoch 14/20\n",
            "202/202 [==============================] - 0s 174us/step - loss: 0.4996 - acc: 0.8168\n",
            "Epoch 15/20\n",
            "202/202 [==============================] - 0s 165us/step - loss: 0.4852 - acc: 0.8168\n",
            "Epoch 16/20\n",
            "202/202 [==============================] - 0s 145us/step - loss: 0.4971 - acc: 0.8168\n",
            "Epoch 17/20\n",
            "202/202 [==============================] - 0s 158us/step - loss: 0.4979 - acc: 0.8168\n",
            "Epoch 18/20\n",
            "202/202 [==============================] - 0s 176us/step - loss: 0.4946 - acc: 0.8168\n",
            "Epoch 19/20\n",
            "202/202 [==============================] - 0s 162us/step - loss: 0.4843 - acc: 0.8168\n",
            "Epoch 20/20\n",
            "202/202 [==============================] - 0s 167us/step - loss: 0.4938 - acc: 0.8168\n",
            "101/101 [==============================] - 1s 14ms/step\n",
            "202/202 [==============================] - 0s 105us/step\n",
            "Epoch 1/20\n",
            "202/202 [==============================] - 3s 16ms/step - loss: 0.6769 - acc: 0.6832\n",
            "Epoch 2/20\n",
            "202/202 [==============================] - 0s 90us/step - loss: 0.6442 - acc: 0.6832\n",
            "Epoch 3/20\n",
            "202/202 [==============================] - 0s 85us/step - loss: 0.6654 - acc: 0.6832\n",
            "Epoch 4/20\n",
            "202/202 [==============================] - 0s 89us/step - loss: 0.6422 - acc: 0.6832\n",
            "Epoch 5/20\n",
            "202/202 [==============================] - 0s 81us/step - loss: 0.6392 - acc: 0.6832\n",
            "Epoch 6/20\n",
            "202/202 [==============================] - 0s 84us/step - loss: 0.6200 - acc: 0.6832\n",
            "Epoch 7/20\n",
            "202/202 [==============================] - 0s 96us/step - loss: 0.6569 - acc: 0.6832\n",
            "Epoch 8/20\n",
            "202/202 [==============================] - 0s 97us/step - loss: 0.6373 - acc: 0.6832\n",
            "Epoch 9/20\n",
            "202/202 [==============================] - 0s 87us/step - loss: 0.6172 - acc: 0.6832\n",
            "Epoch 10/20\n",
            "202/202 [==============================] - 0s 87us/step - loss: 0.6363 - acc: 0.6832\n",
            "Epoch 11/20\n",
            "202/202 [==============================] - 0s 88us/step - loss: 0.6375 - acc: 0.6832\n",
            "Epoch 12/20\n",
            "202/202 [==============================] - 0s 126us/step - loss: 0.6239 - acc: 0.6832\n",
            "Epoch 13/20\n",
            "202/202 [==============================] - 0s 94us/step - loss: 0.6333 - acc: 0.6832\n",
            "Epoch 14/20\n",
            "202/202 [==============================] - 0s 78us/step - loss: 0.6220 - acc: 0.6832\n",
            "Epoch 15/20\n",
            "202/202 [==============================] - 0s 85us/step - loss: 0.6354 - acc: 0.6832\n",
            "Epoch 16/20\n",
            "202/202 [==============================] - 0s 77us/step - loss: 0.6192 - acc: 0.6832\n",
            "Epoch 17/20\n",
            "202/202 [==============================] - 0s 100us/step - loss: 0.6154 - acc: 0.6832\n",
            "Epoch 18/20\n",
            "202/202 [==============================] - 0s 84us/step - loss: 0.6275 - acc: 0.6832\n",
            "Epoch 19/20\n",
            "202/202 [==============================] - 0s 98us/step - loss: 0.6189 - acc: 0.6832\n",
            "Epoch 20/20\n",
            "202/202 [==============================] - 0s 105us/step - loss: 0.6166 - acc: 0.6832\n",
            "101/101 [==============================] - 1s 13ms/step\n",
            "202/202 [==============================] - 0s 68us/step\n",
            "Epoch 1/20\n",
            "202/202 [==============================] - 3s 16ms/step - loss: 0.6932 - acc: 0.5099\n",
            "Epoch 2/20\n",
            "202/202 [==============================] - 0s 117us/step - loss: 0.6935 - acc: 0.4802\n",
            "Epoch 3/20\n",
            "202/202 [==============================] - 0s 98us/step - loss: 0.6939 - acc: 0.4851\n",
            "Epoch 4/20\n",
            "202/202 [==============================] - 0s 94us/step - loss: 0.6926 - acc: 0.4901\n",
            "Epoch 5/20\n",
            "202/202 [==============================] - 0s 97us/step - loss: 0.6941 - acc: 0.5099\n",
            "Epoch 6/20\n",
            "202/202 [==============================] - 0s 94us/step - loss: 0.6948 - acc: 0.4703\n",
            "Epoch 7/20\n",
            "202/202 [==============================] - 0s 93us/step - loss: 0.6919 - acc: 0.5248\n",
            "Epoch 8/20\n",
            "202/202 [==============================] - 0s 92us/step - loss: 0.6931 - acc: 0.5297\n",
            "Epoch 9/20\n",
            "202/202 [==============================] - 0s 102us/step - loss: 0.6945 - acc: 0.4604\n",
            "Epoch 10/20\n",
            "202/202 [==============================] - 0s 103us/step - loss: 0.6933 - acc: 0.5099\n",
            "Epoch 11/20\n",
            "202/202 [==============================] - 0s 111us/step - loss: 0.6939 - acc: 0.4703\n",
            "Epoch 12/20\n",
            "202/202 [==============================] - 0s 89us/step - loss: 0.6919 - acc: 0.5050\n",
            "Epoch 13/20\n",
            "202/202 [==============================] - 0s 98us/step - loss: 0.6957 - acc: 0.5000\n",
            "Epoch 14/20\n",
            "202/202 [==============================] - 0s 108us/step - loss: 0.6953 - acc: 0.4950\n",
            "Epoch 15/20\n",
            "202/202 [==============================] - 0s 98us/step - loss: 0.6918 - acc: 0.5000\n",
            "Epoch 16/20\n",
            "202/202 [==============================] - 0s 96us/step - loss: 0.6942 - acc: 0.5099\n",
            "Epoch 17/20\n",
            "202/202 [==============================] - 0s 87us/step - loss: 0.6917 - acc: 0.5297\n",
            "Epoch 18/20\n",
            "202/202 [==============================] - 0s 83us/step - loss: 0.6961 - acc: 0.4851\n",
            "Epoch 19/20\n",
            "202/202 [==============================] - 0s 86us/step - loss: 0.6953 - acc: 0.4703\n",
            "Epoch 20/20\n",
            "202/202 [==============================] - 0s 92us/step - loss: 0.6920 - acc: 0.5297\n",
            "101/101 [==============================] - 1s 13ms/step\n",
            "202/202 [==============================] - 0s 71us/step\n",
            "Epoch 1/20\n",
            "202/202 [==============================] - 3s 17ms/step - loss: 0.6838 - acc: 0.6980\n",
            "Epoch 2/20\n",
            "202/202 [==============================] - 0s 74us/step - loss: 0.6582 - acc: 0.8168\n",
            "Epoch 3/20\n",
            "202/202 [==============================] - 0s 77us/step - loss: 0.6228 - acc: 0.8168\n",
            "Epoch 4/20\n",
            "202/202 [==============================] - 0s 77us/step - loss: 0.5810 - acc: 0.8168\n",
            "Epoch 5/20\n",
            "202/202 [==============================] - 0s 75us/step - loss: 0.5537 - acc: 0.8168\n",
            "Epoch 6/20\n",
            "202/202 [==============================] - 0s 118us/step - loss: 0.4947 - acc: 0.8168\n",
            "Epoch 7/20\n",
            "202/202 [==============================] - 0s 87us/step - loss: 0.4968 - acc: 0.8168\n",
            "Epoch 8/20\n",
            "202/202 [==============================] - 0s 79us/step - loss: 0.4953 - acc: 0.8168\n",
            "Epoch 9/20\n",
            "202/202 [==============================] - 0s 81us/step - loss: 0.5116 - acc: 0.8168\n",
            "Epoch 10/20\n",
            "202/202 [==============================] - 0s 86us/step - loss: 0.4940 - acc: 0.8168\n",
            "Epoch 11/20\n",
            "202/202 [==============================] - 0s 84us/step - loss: 0.5188 - acc: 0.8168\n",
            "Epoch 12/20\n",
            "202/202 [==============================] - 0s 94us/step - loss: 0.5089 - acc: 0.8168\n",
            "Epoch 13/20\n",
            "202/202 [==============================] - 0s 87us/step - loss: 0.4864 - acc: 0.8168\n",
            "Epoch 14/20\n",
            "202/202 [==============================] - 0s 81us/step - loss: 0.4773 - acc: 0.8168\n",
            "Epoch 15/20\n",
            "202/202 [==============================] - 0s 91us/step - loss: 0.5147 - acc: 0.8168\n",
            "Epoch 16/20\n",
            "202/202 [==============================] - 0s 89us/step - loss: 0.4928 - acc: 0.8168\n",
            "Epoch 17/20\n",
            "202/202 [==============================] - 0s 82us/step - loss: 0.4784 - acc: 0.8168\n",
            "Epoch 18/20\n",
            "202/202 [==============================] - 0s 80us/step - loss: 0.5100 - acc: 0.8168\n",
            "Epoch 19/20\n",
            "202/202 [==============================] - 0s 86us/step - loss: 0.4675 - acc: 0.8168\n",
            "Epoch 20/20\n",
            "202/202 [==============================] - 0s 81us/step - loss: 0.5005 - acc: 0.8168\n",
            "101/101 [==============================] - 1s 14ms/step\n",
            "202/202 [==============================] - 0s 58us/step\n",
            "Epoch 1/20\n",
            "202/202 [==============================] - 3s 17ms/step - loss: 0.6940 - acc: 0.5149\n",
            "Epoch 2/20\n",
            "202/202 [==============================] - 0s 71us/step - loss: 0.6847 - acc: 0.6782\n",
            "Epoch 3/20\n",
            "202/202 [==============================] - 0s 66us/step - loss: 0.6772 - acc: 0.6832\n",
            "Epoch 4/20\n",
            "202/202 [==============================] - 0s 74us/step - loss: 0.6711 - acc: 0.6832\n",
            "Epoch 5/20\n",
            "202/202 [==============================] - 0s 77us/step - loss: 0.6657 - acc: 0.6832\n",
            "Epoch 6/20\n",
            "202/202 [==============================] - 0s 73us/step - loss: 0.6609 - acc: 0.6832\n",
            "Epoch 7/20\n",
            "202/202 [==============================] - 0s 64us/step - loss: 0.6544 - acc: 0.6832\n",
            "Epoch 8/20\n",
            "202/202 [==============================] - 0s 71us/step - loss: 0.6508 - acc: 0.6832\n",
            "Epoch 9/20\n",
            "202/202 [==============================] - 0s 72us/step - loss: 0.6476 - acc: 0.6832\n",
            "Epoch 10/20\n",
            "202/202 [==============================] - 0s 71us/step - loss: 0.6444 - acc: 0.6832\n",
            "Epoch 11/20\n",
            "202/202 [==============================] - 0s 81us/step - loss: 0.6417 - acc: 0.6832\n",
            "Epoch 12/20\n",
            "202/202 [==============================] - 0s 73us/step - loss: 0.6395 - acc: 0.6832\n",
            "Epoch 13/20\n",
            "202/202 [==============================] - 0s 74us/step - loss: 0.6353 - acc: 0.6832\n",
            "Epoch 14/20\n",
            "202/202 [==============================] - 0s 70us/step - loss: 0.6356 - acc: 0.6832\n",
            "Epoch 15/20\n",
            "202/202 [==============================] - 0s 64us/step - loss: 0.6365 - acc: 0.6832\n",
            "Epoch 16/20\n",
            "202/202 [==============================] - 0s 64us/step - loss: 0.6303 - acc: 0.6832\n",
            "Epoch 17/20\n",
            "202/202 [==============================] - 0s 70us/step - loss: 0.6356 - acc: 0.6832\n",
            "Epoch 18/20\n",
            "202/202 [==============================] - 0s 73us/step - loss: 0.6303 - acc: 0.6832\n",
            "Epoch 19/20\n",
            "202/202 [==============================] - 0s 70us/step - loss: 0.6332 - acc: 0.6832\n",
            "Epoch 20/20\n",
            "202/202 [==============================] - 0s 71us/step - loss: 0.6297 - acc: 0.6832\n",
            "101/101 [==============================] - 1s 14ms/step\n",
            "202/202 [==============================] - 0s 57us/step\n",
            "Epoch 1/20\n",
            "202/202 [==============================] - 4s 17ms/step - loss: 0.6937 - acc: 0.4851\n",
            "Epoch 2/20\n",
            "202/202 [==============================] - 0s 82us/step - loss: 0.6935 - acc: 0.5050\n",
            "Epoch 3/20\n",
            "202/202 [==============================] - 0s 69us/step - loss: 0.6945 - acc: 0.4851\n",
            "Epoch 4/20\n",
            "202/202 [==============================] - 0s 76us/step - loss: 0.6935 - acc: 0.4950\n",
            "Epoch 5/20\n",
            "202/202 [==============================] - 0s 69us/step - loss: 0.6943 - acc: 0.4901\n",
            "Epoch 6/20\n",
            "202/202 [==============================] - 0s 71us/step - loss: 0.6930 - acc: 0.5099\n",
            "Epoch 7/20\n",
            "202/202 [==============================] - 0s 68us/step - loss: 0.6922 - acc: 0.5149\n",
            "Epoch 8/20\n",
            "202/202 [==============================] - 0s 70us/step - loss: 0.6930 - acc: 0.4851\n",
            "Epoch 9/20\n",
            "202/202 [==============================] - 0s 64us/step - loss: 0.6931 - acc: 0.5248\n",
            "Epoch 10/20\n",
            "202/202 [==============================] - 0s 77us/step - loss: 0.6915 - acc: 0.5050\n",
            "Epoch 11/20\n",
            "202/202 [==============================] - 0s 66us/step - loss: 0.6899 - acc: 0.5149\n",
            "Epoch 12/20\n",
            "202/202 [==============================] - 0s 63us/step - loss: 0.6916 - acc: 0.5198\n",
            "Epoch 13/20\n",
            "202/202 [==============================] - 0s 63us/step - loss: 0.6928 - acc: 0.5099\n",
            "Epoch 14/20\n",
            "202/202 [==============================] - 0s 66us/step - loss: 0.6948 - acc: 0.5000\n",
            "Epoch 15/20\n",
            "202/202 [==============================] - 0s 82us/step - loss: 0.6929 - acc: 0.4901\n",
            "Epoch 16/20\n",
            "202/202 [==============================] - 0s 68us/step - loss: 0.6914 - acc: 0.5446\n",
            "Epoch 17/20\n",
            "202/202 [==============================] - 0s 69us/step - loss: 0.6938 - acc: 0.5050\n",
            "Epoch 18/20\n",
            "202/202 [==============================] - 0s 68us/step - loss: 0.6909 - acc: 0.5099\n",
            "Epoch 19/20\n",
            "202/202 [==============================] - 0s 67us/step - loss: 0.6946 - acc: 0.5149\n",
            "Epoch 20/20\n",
            "202/202 [==============================] - 0s 70us/step - loss: 0.6925 - acc: 0.5297\n",
            "101/101 [==============================] - 1s 15ms/step\n",
            "202/202 [==============================] - 0s 58us/step\n",
            "Epoch 1/20\n",
            "202/202 [==============================] - 4s 18ms/step - loss: 0.6747 - acc: 0.8020\n",
            "Epoch 2/20\n",
            "202/202 [==============================] - 0s 67us/step - loss: 0.6321 - acc: 0.8168\n",
            "Epoch 3/20\n",
            "202/202 [==============================] - 0s 77us/step - loss: 0.5600 - acc: 0.8168\n",
            "Epoch 4/20\n",
            "202/202 [==============================] - 0s 60us/step - loss: 0.5283 - acc: 0.8168\n",
            "Epoch 5/20\n",
            "202/202 [==============================] - 0s 74us/step - loss: 0.5110 - acc: 0.8168\n",
            "Epoch 6/20\n",
            "202/202 [==============================] - 0s 80us/step - loss: 0.5210 - acc: 0.8168\n",
            "Epoch 7/20\n",
            "202/202 [==============================] - 0s 78us/step - loss: 0.5100 - acc: 0.8168\n",
            "Epoch 8/20\n",
            "202/202 [==============================] - 0s 71us/step - loss: 0.4959 - acc: 0.8168\n",
            "Epoch 9/20\n",
            "202/202 [==============================] - 0s 64us/step - loss: 0.4819 - acc: 0.8168\n",
            "Epoch 10/20\n",
            "202/202 [==============================] - 0s 79us/step - loss: 0.5045 - acc: 0.8168\n",
            "Epoch 11/20\n",
            "202/202 [==============================] - 0s 75us/step - loss: 0.5098 - acc: 0.8168\n",
            "Epoch 12/20\n",
            "202/202 [==============================] - 0s 87us/step - loss: 0.4917 - acc: 0.8168\n",
            "Epoch 13/20\n",
            "202/202 [==============================] - 0s 83us/step - loss: 0.5057 - acc: 0.8168\n",
            "Epoch 14/20\n",
            "202/202 [==============================] - 0s 71us/step - loss: 0.4950 - acc: 0.8168\n",
            "Epoch 15/20\n",
            "202/202 [==============================] - 0s 66us/step - loss: 0.4873 - acc: 0.8168\n",
            "Epoch 16/20\n",
            "202/202 [==============================] - 0s 67us/step - loss: 0.5201 - acc: 0.8168\n",
            "Epoch 17/20\n",
            "202/202 [==============================] - 0s 85us/step - loss: 0.4870 - acc: 0.8168\n",
            "Epoch 18/20\n",
            "202/202 [==============================] - 0s 69us/step - loss: 0.4739 - acc: 0.8168\n",
            "Epoch 19/20\n",
            "202/202 [==============================] - 0s 75us/step - loss: 0.4885 - acc: 0.8168\n",
            "Epoch 20/20\n",
            "202/202 [==============================] - 0s 71us/step - loss: 0.4912 - acc: 0.8168\n",
            "101/101 [==============================] - 2s 15ms/step\n",
            "202/202 [==============================] - 0s 69us/step\n",
            "Epoch 1/20\n",
            "202/202 [==============================] - 4s 18ms/step - loss: 0.6922 - acc: 0.5099\n",
            "Epoch 2/20\n",
            "202/202 [==============================] - 0s 72us/step - loss: 0.6869 - acc: 0.6832\n",
            "Epoch 3/20\n",
            "202/202 [==============================] - 0s 71us/step - loss: 0.6817 - acc: 0.6832\n",
            "Epoch 4/20\n",
            "202/202 [==============================] - 0s 53us/step - loss: 0.6761 - acc: 0.6832\n",
            "Epoch 5/20\n",
            "202/202 [==============================] - 0s 62us/step - loss: 0.6700 - acc: 0.6832\n",
            "Epoch 6/20\n",
            "202/202 [==============================] - 0s 65us/step - loss: 0.6666 - acc: 0.6832\n",
            "Epoch 7/20\n",
            "202/202 [==============================] - 0s 66us/step - loss: 0.6622 - acc: 0.6832\n",
            "Epoch 8/20\n",
            "202/202 [==============================] - 0s 68us/step - loss: 0.6564 - acc: 0.6832\n",
            "Epoch 9/20\n",
            "202/202 [==============================] - 0s 67us/step - loss: 0.6522 - acc: 0.6832\n",
            "Epoch 10/20\n",
            "202/202 [==============================] - 0s 57us/step - loss: 0.6491 - acc: 0.6832\n",
            "Epoch 11/20\n",
            "202/202 [==============================] - 0s 57us/step - loss: 0.6491 - acc: 0.6832\n",
            "Epoch 12/20\n",
            "202/202 [==============================] - 0s 70us/step - loss: 0.6474 - acc: 0.6832\n",
            "Epoch 13/20\n",
            "202/202 [==============================] - 0s 70us/step - loss: 0.6437 - acc: 0.6832\n",
            "Epoch 14/20\n",
            "202/202 [==============================] - 0s 68us/step - loss: 0.6389 - acc: 0.6832\n",
            "Epoch 15/20\n",
            "202/202 [==============================] - 0s 68us/step - loss: 0.6387 - acc: 0.6832\n",
            "Epoch 16/20\n",
            "202/202 [==============================] - 0s 73us/step - loss: 0.6384 - acc: 0.6832\n",
            "Epoch 17/20\n",
            "202/202 [==============================] - 0s 81us/step - loss: 0.6337 - acc: 0.6832\n",
            "Epoch 18/20\n",
            "202/202 [==============================] - 0s 67us/step - loss: 0.6340 - acc: 0.6832\n",
            "Epoch 19/20\n",
            "202/202 [==============================] - 0s 64us/step - loss: 0.6319 - acc: 0.6832\n",
            "Epoch 20/20\n",
            "202/202 [==============================] - 0s 80us/step - loss: 0.6256 - acc: 0.6832\n",
            "101/101 [==============================] - 2s 15ms/step\n",
            "202/202 [==============================] - 0s 67us/step\n",
            "Epoch 1/20\n",
            "202/202 [==============================] - 4s 19ms/step - loss: 0.6953 - acc: 0.5050\n",
            "Epoch 2/20\n",
            "202/202 [==============================] - 0s 68us/step - loss: 0.6937 - acc: 0.4851\n",
            "Epoch 3/20\n",
            "202/202 [==============================] - 0s 62us/step - loss: 0.6896 - acc: 0.5545\n",
            "Epoch 4/20\n",
            "202/202 [==============================] - 0s 45us/step - loss: 0.6919 - acc: 0.5297\n",
            "Epoch 5/20\n",
            "202/202 [==============================] - 0s 65us/step - loss: 0.6914 - acc: 0.5545\n",
            "Epoch 6/20\n",
            "202/202 [==============================] - 0s 44us/step - loss: 0.6887 - acc: 0.5149\n",
            "Epoch 7/20\n",
            "202/202 [==============================] - 0s 83us/step - loss: 0.6961 - acc: 0.4851\n",
            "Epoch 8/20\n",
            "202/202 [==============================] - 0s 72us/step - loss: 0.6916 - acc: 0.4851\n",
            "Epoch 9/20\n",
            "202/202 [==============================] - 0s 69us/step - loss: 0.6926 - acc: 0.5396\n",
            "Epoch 10/20\n",
            "202/202 [==============================] - 0s 68us/step - loss: 0.6938 - acc: 0.4653\n",
            "Epoch 11/20\n",
            "202/202 [==============================] - 0s 80us/step - loss: 0.6942 - acc: 0.4703\n",
            "Epoch 12/20\n",
            "202/202 [==============================] - 0s 63us/step - loss: 0.6961 - acc: 0.4950\n",
            "Epoch 13/20\n",
            "202/202 [==============================] - 0s 56us/step - loss: 0.6916 - acc: 0.5099\n",
            "Epoch 14/20\n",
            "202/202 [==============================] - 0s 58us/step - loss: 0.6917 - acc: 0.5149\n",
            "Epoch 15/20\n",
            "202/202 [==============================] - 0s 56us/step - loss: 0.6907 - acc: 0.5297\n",
            "Epoch 16/20\n",
            "202/202 [==============================] - 0s 50us/step - loss: 0.6965 - acc: 0.4703\n",
            "Epoch 17/20\n",
            "202/202 [==============================] - 0s 62us/step - loss: 0.6937 - acc: 0.4950\n",
            "Epoch 18/20\n",
            "202/202 [==============================] - 0s 60us/step - loss: 0.6933 - acc: 0.4950\n",
            "Epoch 19/20\n",
            "202/202 [==============================] - 0s 54us/step - loss: 0.6921 - acc: 0.5198\n",
            "Epoch 20/20\n",
            "202/202 [==============================] - 0s 53us/step - loss: 0.6946 - acc: 0.4802\n",
            "101/101 [==============================] - 2s 16ms/step\n",
            "202/202 [==============================] - 0s 39us/step\n",
            "Epoch 1/20\n",
            "202/202 [==============================] - 4s 19ms/step - loss: 0.6921 - acc: 0.5248\n",
            "Epoch 2/20\n",
            "202/202 [==============================] - 0s 87us/step - loss: 0.6709 - acc: 0.8168\n",
            "Epoch 3/20\n",
            "202/202 [==============================] - 0s 69us/step - loss: 0.6518 - acc: 0.8168\n",
            "Epoch 4/20\n",
            "202/202 [==============================] - 0s 61us/step - loss: 0.6342 - acc: 0.8168\n",
            "Epoch 5/20\n",
            "202/202 [==============================] - 0s 51us/step - loss: 0.6170 - acc: 0.8168\n",
            "Epoch 6/20\n",
            "202/202 [==============================] - 0s 64us/step - loss: 0.6031 - acc: 0.8168\n",
            "Epoch 7/20\n",
            "202/202 [==============================] - 0s 59us/step - loss: 0.5811 - acc: 0.8168\n",
            "Epoch 8/20\n",
            "202/202 [==============================] - 0s 56us/step - loss: 0.5657 - acc: 0.8168\n",
            "Epoch 9/20\n",
            "202/202 [==============================] - 0s 68us/step - loss: 0.5505 - acc: 0.8168\n",
            "Epoch 10/20\n",
            "202/202 [==============================] - 0s 60us/step - loss: 0.5147 - acc: 0.8168\n",
            "Epoch 11/20\n",
            "202/202 [==============================] - 0s 58us/step - loss: 0.4974 - acc: 0.8168\n",
            "Epoch 12/20\n",
            "202/202 [==============================] - 0s 69us/step - loss: 0.5289 - acc: 0.8168\n",
            "Epoch 13/20\n",
            "202/202 [==============================] - 0s 66us/step - loss: 0.4984 - acc: 0.8168\n",
            "Epoch 14/20\n",
            "202/202 [==============================] - 0s 59us/step - loss: 0.5098 - acc: 0.8168\n",
            "Epoch 15/20\n",
            "202/202 [==============================] - 0s 55us/step - loss: 0.5190 - acc: 0.8168\n",
            "Epoch 16/20\n",
            "202/202 [==============================] - 0s 67us/step - loss: 0.5006 - acc: 0.8168\n",
            "Epoch 17/20\n",
            "202/202 [==============================] - 0s 65us/step - loss: 0.5088 - acc: 0.8168\n",
            "Epoch 18/20\n",
            "202/202 [==============================] - 0s 75us/step - loss: 0.5148 - acc: 0.8168\n",
            "Epoch 19/20\n",
            "202/202 [==============================] - 0s 60us/step - loss: 0.4951 - acc: 0.8168\n",
            "Epoch 20/20\n",
            "202/202 [==============================] - 0s 61us/step - loss: 0.4808 - acc: 0.8168\n",
            "101/101 [==============================] - 2s 16ms/step\n",
            "202/202 [==============================] - 0s 47us/step\n",
            "Epoch 1/20\n",
            "202/202 [==============================] - 4s 20ms/step - loss: 0.6917 - acc: 0.6485\n",
            "Epoch 2/20\n",
            "202/202 [==============================] - 0s 60us/step - loss: 0.6824 - acc: 0.6832\n",
            "Epoch 3/20\n",
            "202/202 [==============================] - 0s 64us/step - loss: 0.6742 - acc: 0.6832\n",
            "Epoch 4/20\n",
            "202/202 [==============================] - 0s 61us/step - loss: 0.6718 - acc: 0.6832\n",
            "Epoch 5/20\n",
            "202/202 [==============================] - 0s 59us/step - loss: 0.6621 - acc: 0.6832\n",
            "Epoch 6/20\n",
            "202/202 [==============================] - 0s 60us/step - loss: 0.6619 - acc: 0.6832\n",
            "Epoch 7/20\n",
            "202/202 [==============================] - 0s 65us/step - loss: 0.6532 - acc: 0.6832\n",
            "Epoch 8/20\n",
            "202/202 [==============================] - 0s 67us/step - loss: 0.6471 - acc: 0.6832\n",
            "Epoch 9/20\n",
            "202/202 [==============================] - 0s 62us/step - loss: 0.6532 - acc: 0.6832\n",
            "Epoch 10/20\n",
            "202/202 [==============================] - 0s 70us/step - loss: 0.6516 - acc: 0.6832\n",
            "Epoch 11/20\n",
            "202/202 [==============================] - 0s 66us/step - loss: 0.6482 - acc: 0.6832\n",
            "Epoch 12/20\n",
            "202/202 [==============================] - 0s 64us/step - loss: 0.6423 - acc: 0.6832\n",
            "Epoch 13/20\n",
            "202/202 [==============================] - 0s 62us/step - loss: 0.6419 - acc: 0.6832\n",
            "Epoch 14/20\n",
            "202/202 [==============================] - 0s 59us/step - loss: 0.6388 - acc: 0.6832\n",
            "Epoch 15/20\n",
            "202/202 [==============================] - 0s 60us/step - loss: 0.6366 - acc: 0.6832\n",
            "Epoch 16/20\n",
            "202/202 [==============================] - 0s 79us/step - loss: 0.6364 - acc: 0.6832\n",
            "Epoch 17/20\n",
            "202/202 [==============================] - 0s 65us/step - loss: 0.6372 - acc: 0.6832\n",
            "Epoch 18/20\n",
            "202/202 [==============================] - 0s 76us/step - loss: 0.6298 - acc: 0.6832\n",
            "Epoch 19/20\n",
            "202/202 [==============================] - 0s 67us/step - loss: 0.6309 - acc: 0.6832\n",
            "Epoch 20/20\n",
            "202/202 [==============================] - 0s 66us/step - loss: 0.6298 - acc: 0.6832\n",
            "101/101 [==============================] - 2s 17ms/step\n",
            "202/202 [==============================] - 0s 44us/step\n",
            "Epoch 1/20\n",
            "202/202 [==============================] - 4s 20ms/step - loss: 0.6931 - acc: 0.5891\n",
            "Epoch 2/20\n",
            "202/202 [==============================] - 0s 64us/step - loss: 0.6933 - acc: 0.5050\n",
            "Epoch 3/20\n",
            "202/202 [==============================] - 0s 56us/step - loss: 0.6936 - acc: 0.5000\n",
            "Epoch 4/20\n",
            "202/202 [==============================] - 0s 64us/step - loss: 0.6934 - acc: 0.5000\n",
            "Epoch 5/20\n",
            "202/202 [==============================] - 0s 61us/step - loss: 0.6932 - acc: 0.5198\n",
            "Epoch 6/20\n",
            "202/202 [==============================] - 0s 51us/step - loss: 0.6932 - acc: 0.5000\n",
            "Epoch 7/20\n",
            "202/202 [==============================] - 0s 61us/step - loss: 0.6932 - acc: 0.5000\n",
            "Epoch 8/20\n",
            "202/202 [==============================] - 0s 61us/step - loss: 0.6932 - acc: 0.5000\n",
            "Epoch 9/20\n",
            "202/202 [==============================] - 0s 62us/step - loss: 0.6934 - acc: 0.5000\n",
            "Epoch 10/20\n",
            "202/202 [==============================] - 0s 66us/step - loss: 0.6932 - acc: 0.5000\n",
            "Epoch 11/20\n",
            "202/202 [==============================] - 0s 67us/step - loss: 0.6932 - acc: 0.5000\n",
            "Epoch 12/20\n",
            "202/202 [==============================] - 0s 78us/step - loss: 0.6932 - acc: 0.5000\n",
            "Epoch 13/20\n",
            "202/202 [==============================] - 0s 75us/step - loss: 0.6933 - acc: 0.5000\n",
            "Epoch 14/20\n",
            "202/202 [==============================] - 0s 67us/step - loss: 0.6933 - acc: 0.5000\n",
            "Epoch 15/20\n",
            "202/202 [==============================] - 0s 71us/step - loss: 0.6933 - acc: 0.5000\n",
            "Epoch 16/20\n",
            "202/202 [==============================] - 0s 81us/step - loss: 0.6933 - acc: 0.5000\n",
            "Epoch 17/20\n",
            "202/202 [==============================] - 0s 71us/step - loss: 0.6935 - acc: 0.5000\n",
            "Epoch 18/20\n",
            "202/202 [==============================] - 0s 89us/step - loss: 0.6938 - acc: 0.5000\n",
            "Epoch 19/20\n",
            "202/202 [==============================] - 0s 58us/step - loss: 0.6938 - acc: 0.5000\n",
            "Epoch 20/20\n",
            "202/202 [==============================] - 0s 63us/step - loss: 0.6942 - acc: 0.5000\n",
            "101/101 [==============================] - 2s 17ms/step\n",
            "202/202 [==============================] - 0s 42us/step\n",
            "Epoch 1/20\n",
            "202/202 [==============================] - 4s 21ms/step - loss: 0.6974 - acc: 0.4059\n",
            "Epoch 2/20\n",
            "202/202 [==============================] - 0s 97us/step - loss: 0.6815 - acc: 0.8069\n",
            "Epoch 3/20\n",
            "202/202 [==============================] - 0s 61us/step - loss: 0.6569 - acc: 0.8168\n",
            "Epoch 4/20\n",
            "202/202 [==============================] - 0s 55us/step - loss: 0.6451 - acc: 0.8168\n",
            "Epoch 5/20\n",
            "202/202 [==============================] - 0s 73us/step - loss: 0.6202 - acc: 0.8168\n",
            "Epoch 6/20\n",
            "202/202 [==============================] - 0s 76us/step - loss: 0.5997 - acc: 0.8168\n",
            "Epoch 7/20\n",
            "202/202 [==============================] - 0s 63us/step - loss: 0.5767 - acc: 0.8168\n",
            "Epoch 8/20\n",
            "202/202 [==============================] - 0s 54us/step - loss: 0.5596 - acc: 0.8168\n",
            "Epoch 9/20\n",
            "202/202 [==============================] - 0s 47us/step - loss: 0.5369 - acc: 0.8168\n",
            "Epoch 10/20\n",
            "202/202 [==============================] - 0s 59us/step - loss: 0.5389 - acc: 0.8168\n",
            "Epoch 11/20\n",
            "202/202 [==============================] - 0s 60us/step - loss: 0.5311 - acc: 0.8168\n",
            "Epoch 12/20\n",
            "202/202 [==============================] - 0s 56us/step - loss: 0.5220 - acc: 0.8168\n",
            "Epoch 13/20\n",
            "202/202 [==============================] - 0s 57us/step - loss: 0.5062 - acc: 0.8168\n",
            "Epoch 14/20\n",
            "202/202 [==============================] - 0s 56us/step - loss: 0.5138 - acc: 0.8168\n",
            "Epoch 15/20\n",
            "202/202 [==============================] - 0s 70us/step - loss: 0.5093 - acc: 0.8168\n",
            "Epoch 16/20\n",
            "202/202 [==============================] - 0s 58us/step - loss: 0.4979 - acc: 0.8168\n",
            "Epoch 17/20\n",
            "202/202 [==============================] - 0s 64us/step - loss: 0.4926 - acc: 0.8168\n",
            "Epoch 18/20\n",
            "202/202 [==============================] - 0s 66us/step - loss: 0.4846 - acc: 0.8168\n",
            "Epoch 19/20\n",
            "202/202 [==============================] - 0s 81us/step - loss: 0.4858 - acc: 0.8168\n",
            "Epoch 20/20\n",
            "202/202 [==============================] - 0s 64us/step - loss: 0.4784 - acc: 0.8168\n",
            "101/101 [==============================] - 2s 17ms/step\n",
            "202/202 [==============================] - 0s 55us/step\n",
            "Epoch 1/20\n",
            "303/303 [==============================] - 4s 14ms/step - loss: 0.6935 - acc: 0.4554\n",
            "Epoch 2/20\n",
            "303/303 [==============================] - 0s 65us/step - loss: 0.6926 - acc: 0.5446\n",
            "Epoch 3/20\n",
            "303/303 [==============================] - 0s 68us/step - loss: 0.6914 - acc: 0.5578\n",
            "Epoch 4/20\n",
            "303/303 [==============================] - 0s 63us/step - loss: 0.6906 - acc: 0.5446\n",
            "Epoch 5/20\n",
            "303/303 [==============================] - 0s 68us/step - loss: 0.6909 - acc: 0.5446\n",
            "Epoch 6/20\n",
            "303/303 [==============================] - 0s 62us/step - loss: 0.6916 - acc: 0.5380\n",
            "Epoch 7/20\n",
            "303/303 [==============================] - 0s 64us/step - loss: 0.6912 - acc: 0.5446\n",
            "Epoch 8/20\n",
            "303/303 [==============================] - 0s 58us/step - loss: 0.6901 - acc: 0.5446\n",
            "Epoch 9/20\n",
            "303/303 [==============================] - 0s 54us/step - loss: 0.6899 - acc: 0.5446\n",
            "Epoch 10/20\n",
            "303/303 [==============================] - 0s 75us/step - loss: 0.6893 - acc: 0.5446\n",
            "Epoch 11/20\n",
            "303/303 [==============================] - 0s 69us/step - loss: 0.6896 - acc: 0.5446\n",
            "Epoch 12/20\n",
            "303/303 [==============================] - 0s 69us/step - loss: 0.6901 - acc: 0.5446\n",
            "Epoch 13/20\n",
            "303/303 [==============================] - 0s 63us/step - loss: 0.6903 - acc: 0.5446\n",
            "Epoch 14/20\n",
            "303/303 [==============================] - 0s 56us/step - loss: 0.6898 - acc: 0.5446\n",
            "Epoch 15/20\n",
            "303/303 [==============================] - 0s 55us/step - loss: 0.6899 - acc: 0.5446\n",
            "Epoch 16/20\n",
            "303/303 [==============================] - 0s 60us/step - loss: 0.6901 - acc: 0.5446\n",
            "Epoch 17/20\n",
            "303/303 [==============================] - 0s 57us/step - loss: 0.6899 - acc: 0.5446\n",
            "Epoch 18/20\n",
            "303/303 [==============================] - 0s 64us/step - loss: 0.6895 - acc: 0.5446\n",
            "Epoch 19/20\n",
            "303/303 [==============================] - 0s 52us/step - loss: 0.6903 - acc: 0.5446\n",
            "Epoch 20/20\n",
            "303/303 [==============================] - 0s 59us/step - loss: 0.6896 - acc: 0.5446\n",
            "Best: 0.21452144939120454 using {'batch_size': 60, 'epochs': 20}\n",
            "Means: 0.12211221200798211, Stdev: 0.172692746353067 with: {'batch_size': 10, 'epochs': 20}\n",
            "Means: 0.1716171625030316, Stdev: 0.24270331874777468 with: {'batch_size': 20, 'epochs': 20}\n",
            "Means: 0.12211221200798211, Stdev: 0.172692746353067 with: {'batch_size': 40, 'epochs': 20}\n",
            "Means: 0.21452144939120454, Stdev: 0.30337914314897496 with: {'batch_size': 60, 'epochs': 20}\n",
            "Means: 0.2112211252596512, Stdev: 0.29871178000190507 with: {'batch_size': 80, 'epochs': 20}\n",
            "Means: 0.21122111739105123, Stdev: 0.2987117688740243 with: {'batch_size': 100, 'epochs': 20}\n"
          ],
          "name": "stdout"
        }
      ]
    },
    {
      "metadata": {
        "id": "fxztT1F8kYO_",
        "colab_type": "code",
        "colab": {}
      },
      "cell_type": "code",
      "source": [
        ""
      ],
      "execution_count": 0,
      "outputs": []
    },
    {
      "metadata": {
        "id": "N0iPnxHLkYRh",
        "colab_type": "code",
        "colab": {}
      },
      "cell_type": "code",
      "source": [
        ""
      ],
      "execution_count": 0,
      "outputs": []
    }
  ]
}